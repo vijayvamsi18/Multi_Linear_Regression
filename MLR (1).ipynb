{
 "cells": [
  {
   "cell_type": "code",
   "execution_count": 1,
   "id": "ac83fd67-ad68-48d0-b295-362c08725662",
   "metadata": {},
   "outputs": [],
   "source": [
    "import pandas as pd\n",
    "import numpy as np\n",
    "import matplotlib.pyplot as plt\n",
    "import seaborn as sns"
   ]
  },
  {
   "cell_type": "markdown",
   "id": "9115f979-525f-4e77-b8bd-7bb74351bf80",
   "metadata": {},
   "source": [
    "#### Read the data"
   ]
  },
  {
   "cell_type": "code",
   "execution_count": 2,
   "id": "03f7c2a5-042b-4af1-95c4-d344f2056f4b",
   "metadata": {},
   "outputs": [
    {
     "data": {
      "text/html": [
       "<div>\n",
       "<style scoped>\n",
       "    .dataframe tbody tr th:only-of-type {\n",
       "        vertical-align: middle;\n",
       "    }\n",
       "\n",
       "    .dataframe tbody tr th {\n",
       "        vertical-align: top;\n",
       "    }\n",
       "\n",
       "    .dataframe thead th {\n",
       "        text-align: right;\n",
       "    }\n",
       "</style>\n",
       "<table border=\"1\" class=\"dataframe\">\n",
       "  <thead>\n",
       "    <tr style=\"text-align: right;\">\n",
       "      <th></th>\n",
       "      <th>Price</th>\n",
       "      <th>Age_08_04</th>\n",
       "      <th>KM</th>\n",
       "      <th>Fuel_Type</th>\n",
       "      <th>HP</th>\n",
       "      <th>Automatic</th>\n",
       "      <th>cc</th>\n",
       "      <th>Doors</th>\n",
       "      <th>Cylinders</th>\n",
       "      <th>Gears</th>\n",
       "      <th>Weight</th>\n",
       "    </tr>\n",
       "  </thead>\n",
       "  <tbody>\n",
       "    <tr>\n",
       "      <th>0</th>\n",
       "      <td>13500</td>\n",
       "      <td>23</td>\n",
       "      <td>46986</td>\n",
       "      <td>Diesel</td>\n",
       "      <td>90</td>\n",
       "      <td>0</td>\n",
       "      <td>2000</td>\n",
       "      <td>3</td>\n",
       "      <td>4</td>\n",
       "      <td>5</td>\n",
       "      <td>1165</td>\n",
       "    </tr>\n",
       "    <tr>\n",
       "      <th>1</th>\n",
       "      <td>13750</td>\n",
       "      <td>23</td>\n",
       "      <td>72937</td>\n",
       "      <td>Diesel</td>\n",
       "      <td>90</td>\n",
       "      <td>0</td>\n",
       "      <td>2000</td>\n",
       "      <td>3</td>\n",
       "      <td>4</td>\n",
       "      <td>5</td>\n",
       "      <td>1165</td>\n",
       "    </tr>\n",
       "    <tr>\n",
       "      <th>2</th>\n",
       "      <td>13950</td>\n",
       "      <td>24</td>\n",
       "      <td>41711</td>\n",
       "      <td>Diesel</td>\n",
       "      <td>90</td>\n",
       "      <td>0</td>\n",
       "      <td>2000</td>\n",
       "      <td>3</td>\n",
       "      <td>4</td>\n",
       "      <td>5</td>\n",
       "      <td>1165</td>\n",
       "    </tr>\n",
       "    <tr>\n",
       "      <th>3</th>\n",
       "      <td>14950</td>\n",
       "      <td>26</td>\n",
       "      <td>48000</td>\n",
       "      <td>Diesel</td>\n",
       "      <td>90</td>\n",
       "      <td>0</td>\n",
       "      <td>2000</td>\n",
       "      <td>3</td>\n",
       "      <td>4</td>\n",
       "      <td>5</td>\n",
       "      <td>1165</td>\n",
       "    </tr>\n",
       "    <tr>\n",
       "      <th>4</th>\n",
       "      <td>13750</td>\n",
       "      <td>30</td>\n",
       "      <td>38500</td>\n",
       "      <td>Diesel</td>\n",
       "      <td>90</td>\n",
       "      <td>0</td>\n",
       "      <td>2000</td>\n",
       "      <td>3</td>\n",
       "      <td>4</td>\n",
       "      <td>5</td>\n",
       "      <td>1170</td>\n",
       "    </tr>\n",
       "  </tbody>\n",
       "</table>\n",
       "</div>"
      ],
      "text/plain": [
       "   Price  Age_08_04     KM Fuel_Type  HP  Automatic    cc  Doors  Cylinders  \\\n",
       "0  13500         23  46986    Diesel  90          0  2000      3          4   \n",
       "1  13750         23  72937    Diesel  90          0  2000      3          4   \n",
       "2  13950         24  41711    Diesel  90          0  2000      3          4   \n",
       "3  14950         26  48000    Diesel  90          0  2000      3          4   \n",
       "4  13750         30  38500    Diesel  90          0  2000      3          4   \n",
       "\n",
       "   Gears  Weight  \n",
       "0      5    1165  \n",
       "1      5    1165  \n",
       "2      5    1165  \n",
       "3      5    1165  \n",
       "4      5    1170  "
      ]
     },
     "execution_count": 2,
     "metadata": {},
     "output_type": "execute_result"
    }
   ],
   "source": [
    "data=pd.read_csv('ToyotaCorolla.csv')\n",
    "data.head()"
   ]
  },
  {
   "cell_type": "code",
   "execution_count": 3,
   "id": "6b3ad5c7-1aad-4fef-b57f-61b2f72d8794",
   "metadata": {},
   "outputs": [
    {
     "name": "stdout",
     "output_type": "stream",
     "text": [
      "<class 'pandas.core.frame.DataFrame'>\n",
      "RangeIndex: 1436 entries, 0 to 1435\n",
      "Data columns (total 11 columns):\n",
      " #   Column     Non-Null Count  Dtype \n",
      "---  ------     --------------  ----- \n",
      " 0   Price      1436 non-null   int64 \n",
      " 1   Age_08_04  1436 non-null   int64 \n",
      " 2   KM         1436 non-null   int64 \n",
      " 3   Fuel_Type  1436 non-null   object\n",
      " 4   HP         1436 non-null   int64 \n",
      " 5   Automatic  1436 non-null   int64 \n",
      " 6   cc         1436 non-null   int64 \n",
      " 7   Doors      1436 non-null   int64 \n",
      " 8   Cylinders  1436 non-null   int64 \n",
      " 9   Gears      1436 non-null   int64 \n",
      " 10  Weight     1436 non-null   int64 \n",
      "dtypes: int64(10), object(1)\n",
      "memory usage: 123.5+ KB\n"
     ]
    }
   ],
   "source": [
    "data.info()"
   ]
  },
  {
   "cell_type": "markdown",
   "id": "ccfef4d1-3ae1-40ea-b570-cc50a7180110",
   "metadata": {},
   "source": [
    "##### There is no null values in this data "
   ]
  },
  {
   "cell_type": "code",
   "execution_count": 4,
   "id": "07be4669-363f-4e14-a849-c98061633b22",
   "metadata": {},
   "outputs": [
    {
     "data": {
      "text/plain": [
       "Index(['Price', 'Age_08_04', 'KM', 'Fuel_Type', 'HP', 'Automatic', 'cc',\n",
       "       'Doors', 'Cylinders', 'Gears', 'Weight'],\n",
       "      dtype='object')"
      ]
     },
     "execution_count": 4,
     "metadata": {},
     "output_type": "execute_result"
    }
   ],
   "source": [
    "data.columns"
   ]
  },
  {
   "cell_type": "code",
   "execution_count": 5,
   "id": "0197d386-58df-47f2-a486-9700a6c0a94a",
   "metadata": {},
   "outputs": [
    {
     "data": {
      "text/html": [
       "<div>\n",
       "<style scoped>\n",
       "    .dataframe tbody tr th:only-of-type {\n",
       "        vertical-align: middle;\n",
       "    }\n",
       "\n",
       "    .dataframe tbody tr th {\n",
       "        vertical-align: top;\n",
       "    }\n",
       "\n",
       "    .dataframe thead th {\n",
       "        text-align: right;\n",
       "    }\n",
       "</style>\n",
       "<table border=\"1\" class=\"dataframe\">\n",
       "  <thead>\n",
       "    <tr style=\"text-align: right;\">\n",
       "      <th></th>\n",
       "      <th>Price</th>\n",
       "      <th>Age_08_04</th>\n",
       "      <th>KM</th>\n",
       "      <th>HP</th>\n",
       "      <th>Automatic</th>\n",
       "      <th>cc</th>\n",
       "      <th>Doors</th>\n",
       "      <th>Cylinders</th>\n",
       "      <th>Gears</th>\n",
       "      <th>Weight</th>\n",
       "    </tr>\n",
       "  </thead>\n",
       "  <tbody>\n",
       "    <tr>\n",
       "      <th>count</th>\n",
       "      <td>1436.000000</td>\n",
       "      <td>1436.000000</td>\n",
       "      <td>1436.000000</td>\n",
       "      <td>1436.000000</td>\n",
       "      <td>1436.000000</td>\n",
       "      <td>1436.00000</td>\n",
       "      <td>1436.000000</td>\n",
       "      <td>1436.0</td>\n",
       "      <td>1436.000000</td>\n",
       "      <td>1436.00000</td>\n",
       "    </tr>\n",
       "    <tr>\n",
       "      <th>mean</th>\n",
       "      <td>10730.824513</td>\n",
       "      <td>55.947075</td>\n",
       "      <td>68533.259749</td>\n",
       "      <td>101.502089</td>\n",
       "      <td>0.055710</td>\n",
       "      <td>1576.85585</td>\n",
       "      <td>4.033426</td>\n",
       "      <td>4.0</td>\n",
       "      <td>5.026462</td>\n",
       "      <td>1072.45961</td>\n",
       "    </tr>\n",
       "    <tr>\n",
       "      <th>std</th>\n",
       "      <td>3626.964585</td>\n",
       "      <td>18.599988</td>\n",
       "      <td>37506.448872</td>\n",
       "      <td>14.981080</td>\n",
       "      <td>0.229441</td>\n",
       "      <td>424.38677</td>\n",
       "      <td>0.952677</td>\n",
       "      <td>0.0</td>\n",
       "      <td>0.188510</td>\n",
       "      <td>52.64112</td>\n",
       "    </tr>\n",
       "    <tr>\n",
       "      <th>min</th>\n",
       "      <td>4350.000000</td>\n",
       "      <td>1.000000</td>\n",
       "      <td>1.000000</td>\n",
       "      <td>69.000000</td>\n",
       "      <td>0.000000</td>\n",
       "      <td>1300.00000</td>\n",
       "      <td>2.000000</td>\n",
       "      <td>4.0</td>\n",
       "      <td>3.000000</td>\n",
       "      <td>1000.00000</td>\n",
       "    </tr>\n",
       "    <tr>\n",
       "      <th>25%</th>\n",
       "      <td>8450.000000</td>\n",
       "      <td>44.000000</td>\n",
       "      <td>43000.000000</td>\n",
       "      <td>90.000000</td>\n",
       "      <td>0.000000</td>\n",
       "      <td>1400.00000</td>\n",
       "      <td>3.000000</td>\n",
       "      <td>4.0</td>\n",
       "      <td>5.000000</td>\n",
       "      <td>1040.00000</td>\n",
       "    </tr>\n",
       "    <tr>\n",
       "      <th>50%</th>\n",
       "      <td>9900.000000</td>\n",
       "      <td>61.000000</td>\n",
       "      <td>63389.500000</td>\n",
       "      <td>110.000000</td>\n",
       "      <td>0.000000</td>\n",
       "      <td>1600.00000</td>\n",
       "      <td>4.000000</td>\n",
       "      <td>4.0</td>\n",
       "      <td>5.000000</td>\n",
       "      <td>1070.00000</td>\n",
       "    </tr>\n",
       "    <tr>\n",
       "      <th>75%</th>\n",
       "      <td>11950.000000</td>\n",
       "      <td>70.000000</td>\n",
       "      <td>87020.750000</td>\n",
       "      <td>110.000000</td>\n",
       "      <td>0.000000</td>\n",
       "      <td>1600.00000</td>\n",
       "      <td>5.000000</td>\n",
       "      <td>4.0</td>\n",
       "      <td>5.000000</td>\n",
       "      <td>1085.00000</td>\n",
       "    </tr>\n",
       "    <tr>\n",
       "      <th>max</th>\n",
       "      <td>32500.000000</td>\n",
       "      <td>80.000000</td>\n",
       "      <td>243000.000000</td>\n",
       "      <td>192.000000</td>\n",
       "      <td>1.000000</td>\n",
       "      <td>16000.00000</td>\n",
       "      <td>5.000000</td>\n",
       "      <td>4.0</td>\n",
       "      <td>6.000000</td>\n",
       "      <td>1615.00000</td>\n",
       "    </tr>\n",
       "  </tbody>\n",
       "</table>\n",
       "</div>"
      ],
      "text/plain": [
       "              Price    Age_08_04             KM           HP    Automatic  \\\n",
       "count   1436.000000  1436.000000    1436.000000  1436.000000  1436.000000   \n",
       "mean   10730.824513    55.947075   68533.259749   101.502089     0.055710   \n",
       "std     3626.964585    18.599988   37506.448872    14.981080     0.229441   \n",
       "min     4350.000000     1.000000       1.000000    69.000000     0.000000   \n",
       "25%     8450.000000    44.000000   43000.000000    90.000000     0.000000   \n",
       "50%     9900.000000    61.000000   63389.500000   110.000000     0.000000   \n",
       "75%    11950.000000    70.000000   87020.750000   110.000000     0.000000   \n",
       "max    32500.000000    80.000000  243000.000000   192.000000     1.000000   \n",
       "\n",
       "                cc        Doors  Cylinders        Gears      Weight  \n",
       "count   1436.00000  1436.000000     1436.0  1436.000000  1436.00000  \n",
       "mean    1576.85585     4.033426        4.0     5.026462  1072.45961  \n",
       "std      424.38677     0.952677        0.0     0.188510    52.64112  \n",
       "min     1300.00000     2.000000        4.0     3.000000  1000.00000  \n",
       "25%     1400.00000     3.000000        4.0     5.000000  1040.00000  \n",
       "50%     1600.00000     4.000000        4.0     5.000000  1070.00000  \n",
       "75%     1600.00000     5.000000        4.0     5.000000  1085.00000  \n",
       "max    16000.00000     5.000000        4.0     6.000000  1615.00000  "
      ]
     },
     "execution_count": 5,
     "metadata": {},
     "output_type": "execute_result"
    }
   ],
   "source": [
    "data.describe()"
   ]
  },
  {
   "cell_type": "code",
   "execution_count": 6,
   "id": "7308fad5-5e20-409c-9efe-6adb8da0cd86",
   "metadata": {},
   "outputs": [
    {
     "data": {
      "text/plain": [
       "1"
      ]
     },
     "execution_count": 6,
     "metadata": {},
     "output_type": "execute_result"
    }
   ],
   "source": [
    "data['Cylinders'].nunique()"
   ]
  },
  {
   "cell_type": "markdown",
   "id": "7208e911-b568-4278-a760-b51683a2a564",
   "metadata": {},
   "source": [
    "#### Here we are dropping cylinder column because all are having same number"
   ]
  },
  {
   "cell_type": "code",
   "execution_count": 7,
   "id": "e1c5ef58-8c4f-4d42-b83d-ddf766ad17fd",
   "metadata": {},
   "outputs": [],
   "source": [
    "data.drop(columns=['Cylinders'],inplace=True)"
   ]
  },
  {
   "cell_type": "markdown",
   "id": "a5af3972-ccc8-4902-8565-b854891bbe5c",
   "metadata": {},
   "source": [
    "#### Checking the duplicates"
   ]
  },
  {
   "cell_type": "code",
   "execution_count": 8,
   "id": "c6fd984d-4460-4b51-bdbd-cd86b9c0a76e",
   "metadata": {},
   "outputs": [
    {
     "data": {
      "text/html": [
       "<div>\n",
       "<style scoped>\n",
       "    .dataframe tbody tr th:only-of-type {\n",
       "        vertical-align: middle;\n",
       "    }\n",
       "\n",
       "    .dataframe tbody tr th {\n",
       "        vertical-align: top;\n",
       "    }\n",
       "\n",
       "    .dataframe thead th {\n",
       "        text-align: right;\n",
       "    }\n",
       "</style>\n",
       "<table border=\"1\" class=\"dataframe\">\n",
       "  <thead>\n",
       "    <tr style=\"text-align: right;\">\n",
       "      <th></th>\n",
       "      <th>Price</th>\n",
       "      <th>Age_08_04</th>\n",
       "      <th>KM</th>\n",
       "      <th>Fuel_Type</th>\n",
       "      <th>HP</th>\n",
       "      <th>Automatic</th>\n",
       "      <th>cc</th>\n",
       "      <th>Doors</th>\n",
       "      <th>Gears</th>\n",
       "      <th>Weight</th>\n",
       "    </tr>\n",
       "  </thead>\n",
       "  <tbody>\n",
       "    <tr>\n",
       "      <th>113</th>\n",
       "      <td>24950</td>\n",
       "      <td>8</td>\n",
       "      <td>13253</td>\n",
       "      <td>Diesel</td>\n",
       "      <td>116</td>\n",
       "      <td>0</td>\n",
       "      <td>2000</td>\n",
       "      <td>5</td>\n",
       "      <td>5</td>\n",
       "      <td>1320</td>\n",
       "    </tr>\n",
       "  </tbody>\n",
       "</table>\n",
       "</div>"
      ],
      "text/plain": [
       "     Price  Age_08_04     KM Fuel_Type   HP  Automatic    cc  Doors  Gears  \\\n",
       "113  24950          8  13253    Diesel  116          0  2000      5      5   \n",
       "\n",
       "     Weight  \n",
       "113    1320  "
      ]
     },
     "execution_count": 8,
     "metadata": {},
     "output_type": "execute_result"
    }
   ],
   "source": [
    "data[data.duplicated()]"
   ]
  },
  {
   "cell_type": "code",
   "execution_count": 9,
   "id": "a050347b-7f3e-4920-b8c9-b015c7e5407e",
   "metadata": {},
   "outputs": [
    {
     "data": {
      "text/plain": [
       "1"
      ]
     },
     "execution_count": 9,
     "metadata": {},
     "output_type": "execute_result"
    }
   ],
   "source": [
    "data.duplicated().sum()"
   ]
  },
  {
   "cell_type": "code",
   "execution_count": 10,
   "id": "557518f5-9565-4987-af50-0122c66b665f",
   "metadata": {},
   "outputs": [],
   "source": [
    "data.drop_duplicates(inplace=True)"
   ]
  },
  {
   "cell_type": "code",
   "execution_count": 11,
   "id": "9bb7dc87-adc4-462e-8bed-19909c90a48f",
   "metadata": {},
   "outputs": [
    {
     "data": {
      "text/plain": [
       "(1435, 10)"
      ]
     },
     "execution_count": 11,
     "metadata": {},
     "output_type": "execute_result"
    }
   ],
   "source": [
    "data.shape"
   ]
  },
  {
   "cell_type": "markdown",
   "id": "b3cb88a0-a745-4e12-8e80-629c33347252",
   "metadata": {},
   "source": [
    "#### checking for column names"
   ]
  },
  {
   "cell_type": "code",
   "execution_count": 12,
   "id": "da387974-31cb-4ed0-88f6-b5e41dbbd646",
   "metadata": {},
   "outputs": [],
   "source": [
    "data.rename(columns={'Age_08_04':'Age'},inplace=True)"
   ]
  },
  {
   "cell_type": "code",
   "execution_count": 13,
   "id": "39fc1393-729b-4170-be54-6a6b938979b4",
   "metadata": {},
   "outputs": [
    {
     "data": {
      "text/html": [
       "<div>\n",
       "<style scoped>\n",
       "    .dataframe tbody tr th:only-of-type {\n",
       "        vertical-align: middle;\n",
       "    }\n",
       "\n",
       "    .dataframe tbody tr th {\n",
       "        vertical-align: top;\n",
       "    }\n",
       "\n",
       "    .dataframe thead th {\n",
       "        text-align: right;\n",
       "    }\n",
       "</style>\n",
       "<table border=\"1\" class=\"dataframe\">\n",
       "  <thead>\n",
       "    <tr style=\"text-align: right;\">\n",
       "      <th></th>\n",
       "      <th>Price</th>\n",
       "      <th>Age</th>\n",
       "      <th>KM</th>\n",
       "      <th>Fuel_Type</th>\n",
       "      <th>HP</th>\n",
       "      <th>Automatic</th>\n",
       "      <th>cc</th>\n",
       "      <th>Doors</th>\n",
       "      <th>Gears</th>\n",
       "      <th>Weight</th>\n",
       "    </tr>\n",
       "  </thead>\n",
       "  <tbody>\n",
       "    <tr>\n",
       "      <th>0</th>\n",
       "      <td>13500</td>\n",
       "      <td>23</td>\n",
       "      <td>46986</td>\n",
       "      <td>Diesel</td>\n",
       "      <td>90</td>\n",
       "      <td>0</td>\n",
       "      <td>2000</td>\n",
       "      <td>3</td>\n",
       "      <td>5</td>\n",
       "      <td>1165</td>\n",
       "    </tr>\n",
       "    <tr>\n",
       "      <th>1</th>\n",
       "      <td>13750</td>\n",
       "      <td>23</td>\n",
       "      <td>72937</td>\n",
       "      <td>Diesel</td>\n",
       "      <td>90</td>\n",
       "      <td>0</td>\n",
       "      <td>2000</td>\n",
       "      <td>3</td>\n",
       "      <td>5</td>\n",
       "      <td>1165</td>\n",
       "    </tr>\n",
       "    <tr>\n",
       "      <th>2</th>\n",
       "      <td>13950</td>\n",
       "      <td>24</td>\n",
       "      <td>41711</td>\n",
       "      <td>Diesel</td>\n",
       "      <td>90</td>\n",
       "      <td>0</td>\n",
       "      <td>2000</td>\n",
       "      <td>3</td>\n",
       "      <td>5</td>\n",
       "      <td>1165</td>\n",
       "    </tr>\n",
       "    <tr>\n",
       "      <th>3</th>\n",
       "      <td>14950</td>\n",
       "      <td>26</td>\n",
       "      <td>48000</td>\n",
       "      <td>Diesel</td>\n",
       "      <td>90</td>\n",
       "      <td>0</td>\n",
       "      <td>2000</td>\n",
       "      <td>3</td>\n",
       "      <td>5</td>\n",
       "      <td>1165</td>\n",
       "    </tr>\n",
       "    <tr>\n",
       "      <th>4</th>\n",
       "      <td>13750</td>\n",
       "      <td>30</td>\n",
       "      <td>38500</td>\n",
       "      <td>Diesel</td>\n",
       "      <td>90</td>\n",
       "      <td>0</td>\n",
       "      <td>2000</td>\n",
       "      <td>3</td>\n",
       "      <td>5</td>\n",
       "      <td>1170</td>\n",
       "    </tr>\n",
       "  </tbody>\n",
       "</table>\n",
       "</div>"
      ],
      "text/plain": [
       "   Price  Age     KM Fuel_Type  HP  Automatic    cc  Doors  Gears  Weight\n",
       "0  13500   23  46986    Diesel  90          0  2000      3      5    1165\n",
       "1  13750   23  72937    Diesel  90          0  2000      3      5    1165\n",
       "2  13950   24  41711    Diesel  90          0  2000      3      5    1165\n",
       "3  14950   26  48000    Diesel  90          0  2000      3      5    1165\n",
       "4  13750   30  38500    Diesel  90          0  2000      3      5    1170"
      ]
     },
     "execution_count": 13,
     "metadata": {},
     "output_type": "execute_result"
    }
   ],
   "source": [
    "data.head()"
   ]
  },
  {
   "cell_type": "code",
   "execution_count": 14,
   "id": "0636600a-cef4-4629-a044-ab2801189a70",
   "metadata": {},
   "outputs": [
    {
     "data": {
      "text/plain": [
       "Price        10720.915679\n",
       "Age             55.980488\n",
       "KM           68571.782578\n",
       "HP             101.491986\n",
       "Automatic        0.055749\n",
       "cc            1576.560976\n",
       "Doors            4.032753\n",
       "Gears            5.026481\n",
       "Weight        1072.287108\n",
       "dtype: float64"
      ]
     },
     "execution_count": 14,
     "metadata": {},
     "output_type": "execute_result"
    }
   ],
   "source": [
    "data.agg('mean',numeric_only=True)"
   ]
  },
  {
   "cell_type": "code",
   "execution_count": 15,
   "id": "1acf906b-b4a6-4efa-a80d-59d1eb3bf670",
   "metadata": {},
   "outputs": [],
   "source": [
    "data_new=data.copy()"
   ]
  },
  {
   "cell_type": "markdown",
   "id": "faa9ccb1-de4f-4b3c-a03f-b048189e9352",
   "metadata": {},
   "source": [
    "##### here the average for each column"
   ]
  },
  {
   "cell_type": "markdown",
   "id": "70714caa-30b6-411e-9f66-c46a51865b39",
   "metadata": {},
   "source": [
    "##### In Fuel type data is in object so we convert the column into integer type "
   ]
  },
  {
   "cell_type": "code",
   "execution_count": 16,
   "id": "87122172-20bc-4c0a-89be-c05a3d23fe71",
   "metadata": {},
   "outputs": [],
   "source": [
    "from sklearn.preprocessing import LabelEncoder"
   ]
  },
  {
   "cell_type": "code",
   "execution_count": 17,
   "id": "230841da-d49e-438e-888d-d2deeeb4cf63",
   "metadata": {},
   "outputs": [],
   "source": [
    "model=LabelEncoder()"
   ]
  },
  {
   "cell_type": "code",
   "execution_count": 18,
   "id": "b01ba6bd-c09f-478c-8558-d79ea0717fc5",
   "metadata": {},
   "outputs": [],
   "source": [
    "Label=model.fit_transform(data['Fuel_Type'])"
   ]
  },
  {
   "cell_type": "code",
   "execution_count": 19,
   "id": "717783a2-4280-4df5-adc8-c939fb91076b",
   "metadata": {},
   "outputs": [
    {
     "data": {
      "text/plain": [
       "array([1, 1, 1, ..., 2, 2, 2])"
      ]
     },
     "execution_count": 19,
     "metadata": {},
     "output_type": "execute_result"
    }
   ],
   "source": [
    "Label"
   ]
  },
  {
   "cell_type": "code",
   "execution_count": 20,
   "id": "7d99474a-6316-4925-a4c1-9fb2c337df3b",
   "metadata": {},
   "outputs": [],
   "source": [
    "data['Fuel_Type']=Label"
   ]
  },
  {
   "cell_type": "code",
   "execution_count": 21,
   "id": "7d731761-7540-484e-a0ce-e0c0ea24b5f1",
   "metadata": {},
   "outputs": [
    {
     "data": {
      "text/html": [
       "<div>\n",
       "<style scoped>\n",
       "    .dataframe tbody tr th:only-of-type {\n",
       "        vertical-align: middle;\n",
       "    }\n",
       "\n",
       "    .dataframe tbody tr th {\n",
       "        vertical-align: top;\n",
       "    }\n",
       "\n",
       "    .dataframe thead th {\n",
       "        text-align: right;\n",
       "    }\n",
       "</style>\n",
       "<table border=\"1\" class=\"dataframe\">\n",
       "  <thead>\n",
       "    <tr style=\"text-align: right;\">\n",
       "      <th></th>\n",
       "      <th>Price</th>\n",
       "      <th>Age</th>\n",
       "      <th>KM</th>\n",
       "      <th>Fuel_Type</th>\n",
       "      <th>HP</th>\n",
       "      <th>Automatic</th>\n",
       "      <th>cc</th>\n",
       "      <th>Doors</th>\n",
       "      <th>Gears</th>\n",
       "      <th>Weight</th>\n",
       "    </tr>\n",
       "  </thead>\n",
       "  <tbody>\n",
       "    <tr>\n",
       "      <th>0</th>\n",
       "      <td>13500</td>\n",
       "      <td>23</td>\n",
       "      <td>46986</td>\n",
       "      <td>1</td>\n",
       "      <td>90</td>\n",
       "      <td>0</td>\n",
       "      <td>2000</td>\n",
       "      <td>3</td>\n",
       "      <td>5</td>\n",
       "      <td>1165</td>\n",
       "    </tr>\n",
       "    <tr>\n",
       "      <th>1</th>\n",
       "      <td>13750</td>\n",
       "      <td>23</td>\n",
       "      <td>72937</td>\n",
       "      <td>1</td>\n",
       "      <td>90</td>\n",
       "      <td>0</td>\n",
       "      <td>2000</td>\n",
       "      <td>3</td>\n",
       "      <td>5</td>\n",
       "      <td>1165</td>\n",
       "    </tr>\n",
       "    <tr>\n",
       "      <th>2</th>\n",
       "      <td>13950</td>\n",
       "      <td>24</td>\n",
       "      <td>41711</td>\n",
       "      <td>1</td>\n",
       "      <td>90</td>\n",
       "      <td>0</td>\n",
       "      <td>2000</td>\n",
       "      <td>3</td>\n",
       "      <td>5</td>\n",
       "      <td>1165</td>\n",
       "    </tr>\n",
       "    <tr>\n",
       "      <th>3</th>\n",
       "      <td>14950</td>\n",
       "      <td>26</td>\n",
       "      <td>48000</td>\n",
       "      <td>1</td>\n",
       "      <td>90</td>\n",
       "      <td>0</td>\n",
       "      <td>2000</td>\n",
       "      <td>3</td>\n",
       "      <td>5</td>\n",
       "      <td>1165</td>\n",
       "    </tr>\n",
       "    <tr>\n",
       "      <th>4</th>\n",
       "      <td>13750</td>\n",
       "      <td>30</td>\n",
       "      <td>38500</td>\n",
       "      <td>1</td>\n",
       "      <td>90</td>\n",
       "      <td>0</td>\n",
       "      <td>2000</td>\n",
       "      <td>3</td>\n",
       "      <td>5</td>\n",
       "      <td>1170</td>\n",
       "    </tr>\n",
       "  </tbody>\n",
       "</table>\n",
       "</div>"
      ],
      "text/plain": [
       "   Price  Age     KM  Fuel_Type  HP  Automatic    cc  Doors  Gears  Weight\n",
       "0  13500   23  46986          1  90          0  2000      3      5    1165\n",
       "1  13750   23  72937          1  90          0  2000      3      5    1165\n",
       "2  13950   24  41711          1  90          0  2000      3      5    1165\n",
       "3  14950   26  48000          1  90          0  2000      3      5    1165\n",
       "4  13750   30  38500          1  90          0  2000      3      5    1170"
      ]
     },
     "execution_count": 21,
     "metadata": {},
     "output_type": "execute_result"
    }
   ],
   "source": [
    "data.head()"
   ]
  },
  {
   "cell_type": "markdown",
   "id": "abc87219-5dce-40d9-a589-f3b9a1c53444",
   "metadata": {},
   "source": [
    "#### Visualization"
   ]
  },
  {
   "cell_type": "markdown",
   "id": "1e7a03b7-b446-4312-870e-a0d21bae8f55",
   "metadata": {},
   "source": [
    "#### Histogram"
   ]
  },
  {
   "cell_type": "code",
   "execution_count": 22,
   "id": "b7105e93-4b6f-4436-b87a-9311660e9908",
   "metadata": {},
   "outputs": [
    {
     "data": {
      "image/png": "[encoded data removed]",
      "text/plain": [
       "<Figure size 600x400 with 1 Axes>"
      ]
     },
     "metadata": {},
     "output_type": "display_data"
    }
   ],
   "source": [
    "plt.figure(figsize=(6,4))\n",
    "plt.xlabel('Price',fontsize=10,color='midnightblue')\n",
    "plt.ylabel('Number Of Cars',fontsize=10)\n",
    "plt.hist(data['Price'],bins=15,edgecolor='white')\n",
    "plt.show()"
   ]
  },
  {
   "cell_type": "markdown",
   "id": "72951987-d0e7-4598-a1a0-615b45e64d90",
   "metadata": {},
   "source": [
    "##### Around 500 cars are with 8000 to 9000 price Range"
   ]
  },
  {
   "cell_type": "code",
   "execution_count": 23,
   "id": "9349ff51-5e7a-4f6d-928d-f8ed8e65d939",
   "metadata": {},
   "outputs": [
    {
     "data": {
      "image/png": "[encoded data removed]",
      "text/plain": [
       "<Figure size 600x400 with 1 Axes>"
      ]
     },
     "metadata": {},
     "output_type": "display_data"
    }
   ],
   "source": [
    "plt.figure(figsize=(6,4))\n",
    "plt.xlabel('Age of car',fontsize=10,color='midnightblue')\n",
    "plt.ylabel('Number Of Cars',fontsize=10)\n",
    "plt.hist(data['Age'],bins=20,edgecolor='white')\n",
    "plt.show()"
   ]
  },
  {
   "cell_type": "markdown",
   "id": "0fc63f72-a7b8-4768-aa44-6d66539ab8a4",
   "metadata": {},
   "source": [
    "#### here we are getting how many cars having how much age"
   ]
  },
  {
   "cell_type": "markdown",
   "id": "75c3bf72-1fb5-4261-b49c-cf37024c6d0d",
   "metadata": {},
   "source": [
    "#### Box plot"
   ]
  },
  {
   "cell_type": "code",
   "execution_count": 24,
   "id": "156f8ace-e638-45ad-8428-844612912364",
   "metadata": {},
   "outputs": [
    {
     "data": {
      "text/plain": [
       "{'whiskers': [<matplotlib.lines.Line2D at 0x21170976b10>,\n",
       "  <matplotlib.lines.Line2D at 0x211714f67e0>],\n",
       " 'caps': [<matplotlib.lines.Line2D at 0x211714f69c0>,\n",
       "  <matplotlib.lines.Line2D at 0x211714f6cc0>],\n",
       " 'boxes': [<matplotlib.patches.PathPatch at 0x211714f6600>],\n",
       " 'medians': [<matplotlib.lines.Line2D at 0x211714f6fc0>],\n",
       " 'fliers': [<matplotlib.lines.Line2D at 0x211714f7260>],\n",
       " 'means': []}"
      ]
     },
     "execution_count": 24,
     "metadata": {},
     "output_type": "execute_result"
    },
    {
     "data": {
      "image/png": "[encoded data removed]",
      "text/plain": [
       "<Figure size 640x480 with 1 Axes>"
      ]
     },
     "metadata": {},
     "output_type": "display_data"
    }
   ],
   "source": [
    "plt.boxplot(data['HP'],patch_artist=True)"
   ]
  },
  {
   "cell_type": "code",
   "execution_count": 25,
   "id": "a4237672-5d73-4167-9963-e31f29a16662",
   "metadata": {},
   "outputs": [
    {
     "data": {
      "text/plain": [
       "array([ 90, 192,  69, 110,  97,  71, 116,  98,  86,  72, 107,  73],\n",
       "      dtype=int64)"
      ]
     },
     "execution_count": 25,
     "metadata": {},
     "output_type": "execute_result"
    }
   ],
   "source": [
    "data['HP'].unique()"
   ]
  },
  {
   "cell_type": "code",
   "execution_count": 26,
   "id": "8c6be52c-b439-476a-ad4e-4d5afacbc8e1",
   "metadata": {},
   "outputs": [
    {
     "data": {
      "text/html": [
       "<div>\n",
       "<style scoped>\n",
       "    .dataframe tbody tr th:only-of-type {\n",
       "        vertical-align: middle;\n",
       "    }\n",
       "\n",
       "    .dataframe tbody tr th {\n",
       "        vertical-align: top;\n",
       "    }\n",
       "\n",
       "    .dataframe thead th {\n",
       "        text-align: right;\n",
       "    }\n",
       "</style>\n",
       "<table border=\"1\" class=\"dataframe\">\n",
       "  <thead>\n",
       "    <tr style=\"text-align: right;\">\n",
       "      <th></th>\n",
       "      <th>Price</th>\n",
       "      <th>Age</th>\n",
       "      <th>KM</th>\n",
       "      <th>Fuel_Type</th>\n",
       "      <th>HP</th>\n",
       "      <th>Automatic</th>\n",
       "      <th>cc</th>\n",
       "      <th>Doors</th>\n",
       "      <th>Gears</th>\n",
       "      <th>Weight</th>\n",
       "    </tr>\n",
       "  </thead>\n",
       "  <tbody>\n",
       "    <tr>\n",
       "      <th>8</th>\n",
       "      <td>21500</td>\n",
       "      <td>27</td>\n",
       "      <td>19700</td>\n",
       "      <td>2</td>\n",
       "      <td>192</td>\n",
       "      <td>0</td>\n",
       "      <td>1800</td>\n",
       "      <td>3</td>\n",
       "      <td>5</td>\n",
       "      <td>1185</td>\n",
       "    </tr>\n",
       "    <tr>\n",
       "      <th>10</th>\n",
       "      <td>20950</td>\n",
       "      <td>25</td>\n",
       "      <td>31461</td>\n",
       "      <td>2</td>\n",
       "      <td>192</td>\n",
       "      <td>0</td>\n",
       "      <td>1800</td>\n",
       "      <td>3</td>\n",
       "      <td>6</td>\n",
       "      <td>1185</td>\n",
       "    </tr>\n",
       "    <tr>\n",
       "      <th>11</th>\n",
       "      <td>19950</td>\n",
       "      <td>22</td>\n",
       "      <td>43610</td>\n",
       "      <td>2</td>\n",
       "      <td>192</td>\n",
       "      <td>0</td>\n",
       "      <td>1800</td>\n",
       "      <td>3</td>\n",
       "      <td>6</td>\n",
       "      <td>1185</td>\n",
       "    </tr>\n",
       "    <tr>\n",
       "      <th>12</th>\n",
       "      <td>19600</td>\n",
       "      <td>25</td>\n",
       "      <td>32189</td>\n",
       "      <td>2</td>\n",
       "      <td>192</td>\n",
       "      <td>0</td>\n",
       "      <td>1800</td>\n",
       "      <td>3</td>\n",
       "      <td>6</td>\n",
       "      <td>1185</td>\n",
       "    </tr>\n",
       "    <tr>\n",
       "      <th>13</th>\n",
       "      <td>21500</td>\n",
       "      <td>31</td>\n",
       "      <td>23000</td>\n",
       "      <td>2</td>\n",
       "      <td>192</td>\n",
       "      <td>0</td>\n",
       "      <td>1800</td>\n",
       "      <td>3</td>\n",
       "      <td>6</td>\n",
       "      <td>1185</td>\n",
       "    </tr>\n",
       "    <tr>\n",
       "      <th>14</th>\n",
       "      <td>22500</td>\n",
       "      <td>32</td>\n",
       "      <td>34131</td>\n",
       "      <td>2</td>\n",
       "      <td>192</td>\n",
       "      <td>0</td>\n",
       "      <td>1800</td>\n",
       "      <td>3</td>\n",
       "      <td>6</td>\n",
       "      <td>1185</td>\n",
       "    </tr>\n",
       "    <tr>\n",
       "      <th>15</th>\n",
       "      <td>22000</td>\n",
       "      <td>28</td>\n",
       "      <td>18739</td>\n",
       "      <td>2</td>\n",
       "      <td>192</td>\n",
       "      <td>0</td>\n",
       "      <td>1800</td>\n",
       "      <td>3</td>\n",
       "      <td>6</td>\n",
       "      <td>1185</td>\n",
       "    </tr>\n",
       "    <tr>\n",
       "      <th>16</th>\n",
       "      <td>22750</td>\n",
       "      <td>30</td>\n",
       "      <td>34000</td>\n",
       "      <td>2</td>\n",
       "      <td>192</td>\n",
       "      <td>0</td>\n",
       "      <td>1800</td>\n",
       "      <td>3</td>\n",
       "      <td>5</td>\n",
       "      <td>1185</td>\n",
       "    </tr>\n",
       "    <tr>\n",
       "      <th>49</th>\n",
       "      <td>21950</td>\n",
       "      <td>31</td>\n",
       "      <td>64982</td>\n",
       "      <td>2</td>\n",
       "      <td>192</td>\n",
       "      <td>0</td>\n",
       "      <td>1800</td>\n",
       "      <td>5</td>\n",
       "      <td>6</td>\n",
       "      <td>1195</td>\n",
       "    </tr>\n",
       "    <tr>\n",
       "      <th>53</th>\n",
       "      <td>21950</td>\n",
       "      <td>27</td>\n",
       "      <td>49866</td>\n",
       "      <td>2</td>\n",
       "      <td>192</td>\n",
       "      <td>0</td>\n",
       "      <td>1800</td>\n",
       "      <td>5</td>\n",
       "      <td>5</td>\n",
       "      <td>1195</td>\n",
       "    </tr>\n",
       "    <tr>\n",
       "      <th>141</th>\n",
       "      <td>23950</td>\n",
       "      <td>19</td>\n",
       "      <td>21684</td>\n",
       "      <td>2</td>\n",
       "      <td>192</td>\n",
       "      <td>0</td>\n",
       "      <td>1800</td>\n",
       "      <td>5</td>\n",
       "      <td>5</td>\n",
       "      <td>1185</td>\n",
       "    </tr>\n",
       "  </tbody>\n",
       "</table>\n",
       "</div>"
      ],
      "text/plain": [
       "     Price  Age     KM  Fuel_Type   HP  Automatic    cc  Doors  Gears  Weight\n",
       "8    21500   27  19700          2  192          0  1800      3      5    1185\n",
       "10   20950   25  31461          2  192          0  1800      3      6    1185\n",
       "11   19950   22  43610          2  192          0  1800      3      6    1185\n",
       "12   19600   25  32189          2  192          0  1800      3      6    1185\n",
       "13   21500   31  23000          2  192          0  1800      3      6    1185\n",
       "14   22500   32  34131          2  192          0  1800      3      6    1185\n",
       "15   22000   28  18739          2  192          0  1800      3      6    1185\n",
       "16   22750   30  34000          2  192          0  1800      3      5    1185\n",
       "49   21950   31  64982          2  192          0  1800      5      6    1195\n",
       "53   21950   27  49866          2  192          0  1800      5      5    1195\n",
       "141  23950   19  21684          2  192          0  1800      5      5    1185"
      ]
     },
     "execution_count": 26,
     "metadata": {},
     "output_type": "execute_result"
    }
   ],
   "source": [
    "data[data['HP']==192]"
   ]
  },
  {
   "cell_type": "code",
   "execution_count": 27,
   "id": "87c3c36d-91dc-4365-b8ac-6be360848f67",
   "metadata": {},
   "outputs": [
    {
     "data": {
      "text/plain": [
       "{'whiskers': [<matplotlib.lines.Line2D at 0x21170dc3a70>,\n",
       "  <matplotlib.lines.Line2D at 0x21170dc1f40>],\n",
       " 'caps': [<matplotlib.lines.Line2D at 0x21170dc19d0>,\n",
       "  <matplotlib.lines.Line2D at 0x21170dc2ff0>],\n",
       " 'boxes': [<matplotlib.patches.PathPatch at 0x21170e2b590>],\n",
       " 'medians': [<matplotlib.lines.Line2D at 0x21170dc3230>],\n",
       " 'fliers': [<matplotlib.lines.Line2D at 0x21170dc2e10>],\n",
       " 'means': []}"
      ]
     },
     "execution_count": 27,
     "metadata": {},
     "output_type": "execute_result"
    },
    {
     "data": {
      "image/png": "[encoded data removed]",
      "text/plain": [
       "<Figure size 640x480 with 1 Axes>"
      ]
     },
     "metadata": {},
     "output_type": "display_data"
    }
   ],
   "source": [
    "plt.boxplot(data['KM'],patch_artist=True)"
   ]
  },
  {
   "cell_type": "markdown",
   "id": "a7028aee-d77e-4795-a436-79d455ab990b",
   "metadata": {},
   "source": [
    "#### here we get so many outliers it distort model performance"
   ]
  },
  {
   "cell_type": "code",
   "execution_count": 28,
   "id": "43e2e16e-fb9c-4466-b37b-4dcdef7e45c9",
   "metadata": {},
   "outputs": [
    {
     "data": {
      "text/plain": [
       "{'whiskers': [<matplotlib.lines.Line2D at 0x2117152dd90>,\n",
       "  <matplotlib.lines.Line2D at 0x2117152dfa0>],\n",
       " 'caps': [<matplotlib.lines.Line2D at 0x2117152e270>,\n",
       "  <matplotlib.lines.Line2D at 0x2117152e450>],\n",
       " 'boxes': [<matplotlib.patches.PathPatch at 0x2117152d9d0>],\n",
       " 'medians': [<matplotlib.lines.Line2D at 0x2117152e6f0>],\n",
       " 'fliers': [<matplotlib.lines.Line2D at 0x2117152e9c0>],\n",
       " 'means': []}"
      ]
     },
     "execution_count": 28,
     "metadata": {},
     "output_type": "execute_result"
    },
    {
     "data": {
      "image/png": "[encoded data removed]",
      "text/plain": [
       "<Figure size 640x480 with 1 Axes>"
      ]
     },
     "metadata": {},
     "output_type": "display_data"
    }
   ],
   "source": [
    "plt.boxplot(data['cc'],patch_artist=True)"
   ]
  },
  {
   "cell_type": "code",
   "execution_count": 29,
   "id": "6b0360ff-aa70-4b8e-8b49-baf8b81e0120",
   "metadata": {},
   "outputs": [
    {
     "data": {
      "text/plain": [
       "array([ 2000,  1800,  1900,  1600,  1400,  1598, 16000,  1995,  1398,\n",
       "        1300,  1587,  1975,  1332], dtype=int64)"
      ]
     },
     "execution_count": 29,
     "metadata": {},
     "output_type": "execute_result"
    }
   ],
   "source": [
    "data['cc'].unique()"
   ]
  },
  {
   "cell_type": "code",
   "execution_count": 30,
   "id": "5cb5642e-388c-4a5c-a30d-89e26430a895",
   "metadata": {},
   "outputs": [
    {
     "data": {
      "text/plain": [
       "13"
      ]
     },
     "execution_count": 30,
     "metadata": {},
     "output_type": "execute_result"
    }
   ],
   "source": [
    "data['cc'].nunique()"
   ]
  },
  {
   "cell_type": "code",
   "execution_count": 31,
   "id": "11bdb510-ca72-4bdc-b579-fd12a9f5ec31",
   "metadata": {},
   "outputs": [
    {
     "data": {
      "text/html": [
       "<div>\n",
       "<style scoped>\n",
       "    .dataframe tbody tr th:only-of-type {\n",
       "        vertical-align: middle;\n",
       "    }\n",
       "\n",
       "    .dataframe tbody tr th {\n",
       "        vertical-align: top;\n",
       "    }\n",
       "\n",
       "    .dataframe thead th {\n",
       "        text-align: right;\n",
       "    }\n",
       "</style>\n",
       "<table border=\"1\" class=\"dataframe\">\n",
       "  <thead>\n",
       "    <tr style=\"text-align: right;\">\n",
       "      <th></th>\n",
       "      <th>Price</th>\n",
       "      <th>Age</th>\n",
       "      <th>KM</th>\n",
       "      <th>Fuel_Type</th>\n",
       "      <th>HP</th>\n",
       "      <th>Automatic</th>\n",
       "      <th>cc</th>\n",
       "      <th>Doors</th>\n",
       "      <th>Gears</th>\n",
       "      <th>Weight</th>\n",
       "    </tr>\n",
       "  </thead>\n",
       "  <tbody>\n",
       "    <tr>\n",
       "      <th>80</th>\n",
       "      <td>18950</td>\n",
       "      <td>25</td>\n",
       "      <td>20019</td>\n",
       "      <td>2</td>\n",
       "      <td>110</td>\n",
       "      <td>1</td>\n",
       "      <td>16000</td>\n",
       "      <td>5</td>\n",
       "      <td>5</td>\n",
       "      <td>1180</td>\n",
       "    </tr>\n",
       "  </tbody>\n",
       "</table>\n",
       "</div>"
      ],
      "text/plain": [
       "    Price  Age     KM  Fuel_Type   HP  Automatic     cc  Doors  Gears  Weight\n",
       "80  18950   25  20019          2  110          1  16000      5      5    1180"
      ]
     },
     "execution_count": 31,
     "metadata": {},
     "output_type": "execute_result"
    }
   ],
   "source": [
    "data[data['cc']==16000]"
   ]
  },
  {
   "cell_type": "markdown",
   "id": "9c8c64f1-d7e8-49b1-8a5b-a4d311de96a2",
   "metadata": {},
   "source": [
    "#### Here it is an outlier son we can remove this"
   ]
  },
  {
   "cell_type": "code",
   "execution_count": 32,
   "id": "f5877f0e-8095-442d-b99c-6d6cb8cdba40",
   "metadata": {},
   "outputs": [],
   "source": [
    "data.drop(80,inplace=True)"
   ]
  },
  {
   "cell_type": "code",
   "execution_count": 33,
   "id": "e9a0f4fc-1469-4ef2-bc1a-446658c980a6",
   "metadata": {},
   "outputs": [
    {
     "data": {
      "text/plain": [
       "{'whiskers': [<matplotlib.lines.Line2D at 0x211715ad010>,\n",
       "  <matplotlib.lines.Line2D at 0x211715ad250>],\n",
       " 'caps': [<matplotlib.lines.Line2D at 0x211715ad490>,\n",
       "  <matplotlib.lines.Line2D at 0x211715ad700>],\n",
       " 'boxes': [<matplotlib.patches.PathPatch at 0x211715accb0>],\n",
       " 'medians': [<matplotlib.lines.Line2D at 0x211715ada00>],\n",
       " 'fliers': [<matplotlib.lines.Line2D at 0x211715add00>],\n",
       " 'means': []}"
      ]
     },
     "execution_count": 33,
     "metadata": {},
     "output_type": "execute_result"
    },
    {
     "data": {
      "image/png": "[encoded data removed]",
      "text/plain": [
       "<Figure size 640x480 with 1 Axes>"
      ]
     },
     "metadata": {},
     "output_type": "display_data"
    }
   ],
   "source": [
    "plt.boxplot(data['cc'],patch_artist=True)"
   ]
  },
  {
   "cell_type": "markdown",
   "id": "891752bd-5c48-403b-94ac-16475469f652",
   "metadata": {},
   "source": [
    "#### After that we got less outliers"
   ]
  },
  {
   "cell_type": "code",
   "execution_count": 34,
   "id": "aec32a7a-7d0f-4685-8cef-867f5539c508",
   "metadata": {},
   "outputs": [
    {
     "data": {
      "text/html": [
       "<div>\n",
       "<style scoped>\n",
       "    .dataframe tbody tr th:only-of-type {\n",
       "        vertical-align: middle;\n",
       "    }\n",
       "\n",
       "    .dataframe tbody tr th {\n",
       "        vertical-align: top;\n",
       "    }\n",
       "\n",
       "    .dataframe thead th {\n",
       "        text-align: right;\n",
       "    }\n",
       "</style>\n",
       "<table border=\"1\" class=\"dataframe\">\n",
       "  <thead>\n",
       "    <tr style=\"text-align: right;\">\n",
       "      <th></th>\n",
       "      <th>Price</th>\n",
       "      <th>Age</th>\n",
       "      <th>KM</th>\n",
       "      <th>Fuel_Type</th>\n",
       "      <th>HP</th>\n",
       "      <th>Automatic</th>\n",
       "      <th>cc</th>\n",
       "      <th>Doors</th>\n",
       "      <th>Gears</th>\n",
       "      <th>Weight</th>\n",
       "    </tr>\n",
       "  </thead>\n",
       "  <tbody>\n",
       "    <tr>\n",
       "      <th>Price</th>\n",
       "      <td>1.000000</td>\n",
       "      <td>-0.876059</td>\n",
       "      <td>-0.568724</td>\n",
       "      <td>-0.016476</td>\n",
       "      <td>0.313836</td>\n",
       "      <td>0.027594</td>\n",
       "      <td>0.159904</td>\n",
       "      <td>0.182385</td>\n",
       "      <td>0.064171</td>\n",
       "      <td>0.574483</td>\n",
       "    </tr>\n",
       "    <tr>\n",
       "      <th>Age</th>\n",
       "      <td>-0.876059</td>\n",
       "      <td>1.000000</td>\n",
       "      <td>0.503851</td>\n",
       "      <td>0.076871</td>\n",
       "      <td>-0.154800</td>\n",
       "      <td>0.036396</td>\n",
       "      <td>-0.129482</td>\n",
       "      <td>-0.145941</td>\n",
       "      <td>-0.005799</td>\n",
       "      <td>-0.465226</td>\n",
       "    </tr>\n",
       "    <tr>\n",
       "      <th>KM</th>\n",
       "      <td>-0.568724</td>\n",
       "      <td>0.503851</td>\n",
       "      <td>1.000000</td>\n",
       "      <td>-0.424065</td>\n",
       "      <td>-0.332623</td>\n",
       "      <td>-0.078963</td>\n",
       "      <td>0.305675</td>\n",
       "      <td>-0.034308</td>\n",
       "      <td>0.014772</td>\n",
       "      <td>-0.022152</td>\n",
       "    </tr>\n",
       "    <tr>\n",
       "      <th>Fuel_Type</th>\n",
       "      <td>-0.016476</td>\n",
       "      <td>0.076871</td>\n",
       "      <td>-0.424065</td>\n",
       "      <td>1.000000</td>\n",
       "      <td>0.411897</td>\n",
       "      <td>0.068853</td>\n",
       "      <td>-0.646301</td>\n",
       "      <td>-0.025600</td>\n",
       "      <td>0.069598</td>\n",
       "      <td>-0.503756</td>\n",
       "    </tr>\n",
       "    <tr>\n",
       "      <th>HP</th>\n",
       "      <td>0.313836</td>\n",
       "      <td>-0.154800</td>\n",
       "      <td>-0.332623</td>\n",
       "      <td>0.411897</td>\n",
       "      <td>1.000000</td>\n",
       "      <td>0.011753</td>\n",
       "      <td>0.049366</td>\n",
       "      <td>0.091444</td>\n",
       "      <td>0.209722</td>\n",
       "      <td>0.086464</td>\n",
       "    </tr>\n",
       "    <tr>\n",
       "      <th>Automatic</th>\n",
       "      <td>0.027594</td>\n",
       "      <td>0.036396</td>\n",
       "      <td>-0.078963</td>\n",
       "      <td>0.068853</td>\n",
       "      <td>0.011753</td>\n",
       "      <td>1.000000</td>\n",
       "      <td>-0.069990</td>\n",
       "      <td>-0.030600</td>\n",
       "      <td>-0.098764</td>\n",
       "      <td>0.052972</td>\n",
       "    </tr>\n",
       "    <tr>\n",
       "      <th>cc</th>\n",
       "      <td>0.159904</td>\n",
       "      <td>-0.129482</td>\n",
       "      <td>0.305675</td>\n",
       "      <td>-0.646301</td>\n",
       "      <td>0.049366</td>\n",
       "      <td>-0.069990</td>\n",
       "      <td>1.000000</td>\n",
       "      <td>0.125329</td>\n",
       "      <td>0.041015</td>\n",
       "      <td>0.650814</td>\n",
       "    </tr>\n",
       "    <tr>\n",
       "      <th>Doors</th>\n",
       "      <td>0.182385</td>\n",
       "      <td>-0.145941</td>\n",
       "      <td>-0.034308</td>\n",
       "      <td>-0.025600</td>\n",
       "      <td>0.091444</td>\n",
       "      <td>-0.030600</td>\n",
       "      <td>0.125329</td>\n",
       "      <td>1.000000</td>\n",
       "      <td>-0.160060</td>\n",
       "      <td>0.300827</td>\n",
       "    </tr>\n",
       "    <tr>\n",
       "      <th>Gears</th>\n",
       "      <td>0.064171</td>\n",
       "      <td>-0.005799</td>\n",
       "      <td>0.014772</td>\n",
       "      <td>0.069598</td>\n",
       "      <td>0.209722</td>\n",
       "      <td>-0.098764</td>\n",
       "      <td>0.041015</td>\n",
       "      <td>-0.160060</td>\n",
       "      <td>1.000000</td>\n",
       "      <td>0.021472</td>\n",
       "    </tr>\n",
       "    <tr>\n",
       "      <th>Weight</th>\n",
       "      <td>0.574483</td>\n",
       "      <td>-0.465226</td>\n",
       "      <td>-0.022152</td>\n",
       "      <td>-0.503756</td>\n",
       "      <td>0.086464</td>\n",
       "      <td>0.052972</td>\n",
       "      <td>0.650814</td>\n",
       "      <td>0.300827</td>\n",
       "      <td>0.021472</td>\n",
       "      <td>1.000000</td>\n",
       "    </tr>\n",
       "  </tbody>\n",
       "</table>\n",
       "</div>"
      ],
      "text/plain": [
       "              Price       Age        KM  Fuel_Type        HP  Automatic  \\\n",
       "Price      1.000000 -0.876059 -0.568724  -0.016476  0.313836   0.027594   \n",
       "Age       -0.876059  1.000000  0.503851   0.076871 -0.154800   0.036396   \n",
       "KM        -0.568724  0.503851  1.000000  -0.424065 -0.332623  -0.078963   \n",
       "Fuel_Type -0.016476  0.076871 -0.424065   1.000000  0.411897   0.068853   \n",
       "HP         0.313836 -0.154800 -0.332623   0.411897  1.000000   0.011753   \n",
       "Automatic  0.027594  0.036396 -0.078963   0.068853  0.011753   1.000000   \n",
       "cc         0.159904 -0.129482  0.305675  -0.646301  0.049366  -0.069990   \n",
       "Doors      0.182385 -0.145941 -0.034308  -0.025600  0.091444  -0.030600   \n",
       "Gears      0.064171 -0.005799  0.014772   0.069598  0.209722  -0.098764   \n",
       "Weight     0.574483 -0.465226 -0.022152  -0.503756  0.086464   0.052972   \n",
       "\n",
       "                 cc     Doors     Gears    Weight  \n",
       "Price      0.159904  0.182385  0.064171  0.574483  \n",
       "Age       -0.129482 -0.145941 -0.005799 -0.465226  \n",
       "KM         0.305675 -0.034308  0.014772 -0.022152  \n",
       "Fuel_Type -0.646301 -0.025600  0.069598 -0.503756  \n",
       "HP         0.049366  0.091444  0.209722  0.086464  \n",
       "Automatic -0.069990 -0.030600 -0.098764  0.052972  \n",
       "cc         1.000000  0.125329  0.041015  0.650814  \n",
       "Doors      0.125329  1.000000 -0.160060  0.300827  \n",
       "Gears      0.041015 -0.160060  1.000000  0.021472  \n",
       "Weight     0.650814  0.300827  0.021472  1.000000  "
      ]
     },
     "execution_count": 34,
     "metadata": {},
     "output_type": "execute_result"
    }
   ],
   "source": [
    "correlation=data.corr()\n",
    "correlation"
   ]
  },
  {
   "cell_type": "code",
   "execution_count": 35,
   "id": "3dde24ee-8e4b-4b42-a919-5af119a0de7d",
   "metadata": {},
   "outputs": [
    {
     "data": {
      "image/png": "[encoded data removed]",
      "text/plain": [
       "<Figure size 640x480 with 2 Axes>"
      ]
     },
     "metadata": {},
     "output_type": "display_data"
    }
   ],
   "source": [
    "sns.heatmap(correlation)\n",
    "plt.show()"
   ]
  },
  {
   "cell_type": "markdown",
   "id": "ecedec93-ae01-463b-bcf5-05d22f883582",
   "metadata": {},
   "source": [
    "#####\n",
    "Price decreases with Age and KM\n",
    "→ Older cars and higher mileage reduce the car’s resale value.\n",
    "\n",
    "Price increases with HP, CC, and Weight\n",
    "→ More powerful, larger, and heavier cars usually cost more.\n",
    "\n",
    "Automatic cars may have slightly higher prices\n",
    "→ Being a premium feature, automatics can add value.\n",
    "\n",
    "HP and CC are highly correlated\n",
    "→ Bigger engines produce more horsepower — may cause multicollinearity.\n",
    "\n",
    "Age and KM are often related\n",
    "→ Older cars usually have higher mileage — another multicollinearity risk."
   ]
  },
  {
   "cell_type": "code",
   "execution_count": 36,
   "id": "60426fbe-db02-470f-8023-0c32cae49931",
   "metadata": {},
   "outputs": [
    {
     "data": {
      "text/html": [
       "<div>\n",
       "<style scoped>\n",
       "    .dataframe tbody tr th:only-of-type {\n",
       "        vertical-align: middle;\n",
       "    }\n",
       "\n",
       "    .dataframe tbody tr th {\n",
       "        vertical-align: top;\n",
       "    }\n",
       "\n",
       "    .dataframe thead th {\n",
       "        text-align: right;\n",
       "    }\n",
       "</style>\n",
       "<table border=\"1\" class=\"dataframe\">\n",
       "  <thead>\n",
       "    <tr style=\"text-align: right;\">\n",
       "      <th></th>\n",
       "      <th>Price</th>\n",
       "      <th>Age</th>\n",
       "      <th>KM</th>\n",
       "      <th>Fuel_Type</th>\n",
       "      <th>HP</th>\n",
       "      <th>Automatic</th>\n",
       "      <th>cc</th>\n",
       "      <th>Doors</th>\n",
       "      <th>Gears</th>\n",
       "      <th>Weight</th>\n",
       "    </tr>\n",
       "  </thead>\n",
       "  <tbody>\n",
       "    <tr>\n",
       "      <th>0</th>\n",
       "      <td>13500</td>\n",
       "      <td>23</td>\n",
       "      <td>46986</td>\n",
       "      <td>1</td>\n",
       "      <td>90</td>\n",
       "      <td>0</td>\n",
       "      <td>2000</td>\n",
       "      <td>3</td>\n",
       "      <td>5</td>\n",
       "      <td>1165</td>\n",
       "    </tr>\n",
       "    <tr>\n",
       "      <th>1</th>\n",
       "      <td>13750</td>\n",
       "      <td>23</td>\n",
       "      <td>72937</td>\n",
       "      <td>1</td>\n",
       "      <td>90</td>\n",
       "      <td>0</td>\n",
       "      <td>2000</td>\n",
       "      <td>3</td>\n",
       "      <td>5</td>\n",
       "      <td>1165</td>\n",
       "    </tr>\n",
       "    <tr>\n",
       "      <th>2</th>\n",
       "      <td>13950</td>\n",
       "      <td>24</td>\n",
       "      <td>41711</td>\n",
       "      <td>1</td>\n",
       "      <td>90</td>\n",
       "      <td>0</td>\n",
       "      <td>2000</td>\n",
       "      <td>3</td>\n",
       "      <td>5</td>\n",
       "      <td>1165</td>\n",
       "    </tr>\n",
       "    <tr>\n",
       "      <th>3</th>\n",
       "      <td>14950</td>\n",
       "      <td>26</td>\n",
       "      <td>48000</td>\n",
       "      <td>1</td>\n",
       "      <td>90</td>\n",
       "      <td>0</td>\n",
       "      <td>2000</td>\n",
       "      <td>3</td>\n",
       "      <td>5</td>\n",
       "      <td>1165</td>\n",
       "    </tr>\n",
       "    <tr>\n",
       "      <th>4</th>\n",
       "      <td>13750</td>\n",
       "      <td>30</td>\n",
       "      <td>38500</td>\n",
       "      <td>1</td>\n",
       "      <td>90</td>\n",
       "      <td>0</td>\n",
       "      <td>2000</td>\n",
       "      <td>3</td>\n",
       "      <td>5</td>\n",
       "      <td>1170</td>\n",
       "    </tr>\n",
       "  </tbody>\n",
       "</table>\n",
       "</div>"
      ],
      "text/plain": [
       "   Price  Age     KM  Fuel_Type  HP  Automatic    cc  Doors  Gears  Weight\n",
       "0  13500   23  46986          1  90          0  2000      3      5    1165\n",
       "1  13750   23  72937          1  90          0  2000      3      5    1165\n",
       "2  13950   24  41711          1  90          0  2000      3      5    1165\n",
       "3  14950   26  48000          1  90          0  2000      3      5    1165\n",
       "4  13750   30  38500          1  90          0  2000      3      5    1170"
      ]
     },
     "execution_count": 36,
     "metadata": {},
     "output_type": "execute_result"
    }
   ],
   "source": [
    "data.head()"
   ]
  },
  {
   "cell_type": "code",
   "execution_count": 37,
   "id": "faebbc85-34d5-4a49-a237-6b3d0ccf0b58",
   "metadata": {},
   "outputs": [],
   "source": [
    "X=data.iloc[:,1:9]\n",
    "y=data.iloc[:,0]"
   ]
  },
  {
   "cell_type": "code",
   "execution_count": 38,
   "id": "7d6c740c-bb5f-4be5-9c42-68d6e04da4cd",
   "metadata": {},
   "outputs": [],
   "source": [
    "from sklearn.model_selection import train_test_split"
   ]
  },
  {
   "cell_type": "code",
   "execution_count": 39,
   "id": "59b0bebd-3607-4a35-9f70-324e94013927",
   "metadata": {},
   "outputs": [
    {
     "data": {
      "text/plain": [
       "((1147, 8), (287, 8), (1147,), (287,))"
      ]
     },
     "execution_count": 39,
     "metadata": {},
     "output_type": "execute_result"
    }
   ],
   "source": [
    "X_train,X_test,y_train,y_test=train_test_split(X,y,test_size=0.2,random_state=42)\n",
    "X_train.shape,X_test.shape,y_train.shape,y_test.shape"
   ]
  },
  {
   "cell_type": "code",
   "execution_count": 40,
   "id": "f4f21a28-7484-469a-ac29-5674259f2dfe",
   "metadata": {},
   "outputs": [],
   "source": [
    "from sklearn.linear_model import LinearRegression"
   ]
  },
  {
   "cell_type": "code",
   "execution_count": 41,
   "id": "b3d925e1-fd5a-4857-8618-c1b2b3350acf",
   "metadata": {},
   "outputs": [
    {
     "data": {
      "text/html": [
       "<style>#sk-container-id-1 {\n",
       "  /* Definition of color scheme common for light and dark mode */\n",
       "  --sklearn-color-text: black;\n",
       "  --sklearn-color-line: gray;\n",
       "  /* Definition of color scheme for unfitted estimators */\n",
       "  --sklearn-color-unfitted-level-0: #fff5e6;\n",
       "  --sklearn-color-unfitted-level-1: #f6e4d2;\n",
       "  --sklearn-color-unfitted-level-2: #ffe0b3;\n",
       "  --sklearn-color-unfitted-level-3: chocolate;\n",
       "  /* Definition of color scheme for fitted estimators */\n",
       "  --sklearn-color-fitted-level-0: #f0f8ff;\n",
       "  --sklearn-color-fitted-level-1: #d4ebff;\n",
       "  --sklearn-color-fitted-level-2: #b3dbfd;\n",
       "  --sklearn-color-fitted-level-3: cornflowerblue;\n",
       "\n",
       "  /* Specific color for light theme */\n",
       "  --sklearn-color-text-on-default-background: var(--sg-text-color, var(--theme-code-foreground, var(--jp-content-font-color1, black)));\n",
       "  --sklearn-color-background: var(--sg-background-color, var(--theme-background, var(--jp-layout-color0, white)));\n",
       "  --sklearn-color-border-box: var(--sg-text-color, var(--theme-code-foreground, var(--jp-content-font-color1, black)));\n",
       "  --sklearn-color-icon: #696969;\n",
       "\n",
       "  @media (prefers-color-scheme: dark) {\n",
       "    /* Redefinition of color scheme for dark theme */\n",
       "    --sklearn-color-text-on-default-background: var(--sg-text-color, var(--theme-code-foreground, var(--jp-content-font-color1, white)));\n",
       "    --sklearn-color-background: var(--sg-background-color, var(--theme-background, var(--jp-layout-color0, #111)));\n",
       "    --sklearn-color-border-box: var(--sg-text-color, var(--theme-code-foreground, var(--jp-content-font-color1, white)));\n",
       "    --sklearn-color-icon: #878787;\n",
       "  }\n",
       "}\n",
       "\n",
       "#sk-container-id-1 {\n",
       "  color: var(--sklearn-color-text);\n",
       "}\n",
       "\n",
       "#sk-container-id-1 pre {\n",
       "  padding: 0;\n",
       "}\n",
       "\n",
       "#sk-container-id-1 input.sk-hidden--visually {\n",
       "  border: 0;\n",
       "  clip: rect(1px 1px 1px 1px);\n",
       "  clip: rect(1px, 1px, 1px, 1px);\n",
       "  height: 1px;\n",
       "  margin: -1px;\n",
       "  overflow: hidden;\n",
       "  padding: 0;\n",
       "  position: absolute;\n",
       "  width: 1px;\n",
       "}\n",
       "\n",
       "#sk-container-id-1 div.sk-dashed-wrapped {\n",
       "  border: 1px dashed var(--sklearn-color-line);\n",
       "  margin: 0 0.4em 0.5em 0.4em;\n",
       "  box-sizing: border-box;\n",
       "  padding-bottom: 0.4em;\n",
       "  background-color: var(--sklearn-color-background);\n",
       "}\n",
       "\n",
       "#sk-container-id-1 div.sk-container {\n",
       "  /* jupyter's `normalize.less` sets `[hidden] { display: none; }`\n",
       "     but bootstrap.min.css set `[hidden] { display: none !important; }`\n",
       "     so we also need the `!important` here to be able to override the\n",
       "     default hidden behavior on the sphinx rendered scikit-learn.org.\n",
       "     See: https://github.com/scikit-learn/scikit-learn/issues/21755 */\n",
       "  display: inline-block !important;\n",
       "  position: relative;\n",
       "}\n",
       "\n",
       "#sk-container-id-1 div.sk-text-repr-fallback {\n",
       "  display: none;\n",
       "}\n",
       "\n",
       "div.sk-parallel-item,\n",
       "div.sk-serial,\n",
       "div.sk-item {\n",
       "  /* draw centered vertical line to link estimators */\n",
       "  background-image: linear-gradient(var(--sklearn-color-text-on-default-background), var(--sklearn-color-text-on-default-background));\n",
       "  background-size: 2px 100%;\n",
       "  background-repeat: no-repeat;\n",
       "  background-position: center center;\n",
       "}\n",
       "\n",
       "/* Parallel-specific style estimator block */\n",
       "\n",
       "#sk-container-id-1 div.sk-parallel-item::after {\n",
       "  content: \"\";\n",
       "  width: 100%;\n",
       "  border-bottom: 2px solid var(--sklearn-color-text-on-default-background);\n",
       "  flex-grow: 1;\n",
       "}\n",
       "\n",
       "#sk-container-id-1 div.sk-parallel {\n",
       "  display: flex;\n",
       "  align-items: stretch;\n",
       "  justify-content: center;\n",
       "  background-color: var(--sklearn-color-background);\n",
       "  position: relative;\n",
       "}\n",
       "\n",
       "#sk-container-id-1 div.sk-parallel-item {\n",
       "  display: flex;\n",
       "  flex-direction: column;\n",
       "}\n",
       "\n",
       "#sk-container-id-1 div.sk-parallel-item:first-child::after {\n",
       "  align-self: flex-end;\n",
       "  width: 50%;\n",
       "}\n",
       "\n",
       "#sk-container-id-1 div.sk-parallel-item:last-child::after {\n",
       "  align-self: flex-start;\n",
       "  width: 50%;\n",
       "}\n",
       "\n",
       "#sk-container-id-1 div.sk-parallel-item:only-child::after {\n",
       "  width: 0;\n",
       "}\n",
       "\n",
       "/* Serial-specific style estimator block */\n",
       "\n",
       "#sk-container-id-1 div.sk-serial {\n",
       "  display: flex;\n",
       "  flex-direction: column;\n",
       "  align-items: center;\n",
       "  background-color: var(--sklearn-color-background);\n",
       "  padding-right: 1em;\n",
       "  padding-left: 1em;\n",
       "}\n",
       "\n",
       "\n",
       "/* Toggleable style: style used for estimator/Pipeline/ColumnTransformer box that is\n",
       "clickable and can be expanded/collapsed.\n",
       "- Pipeline and ColumnTransformer use this feature and define the default style\n",
       "- Estimators will overwrite some part of the style using the `sk-estimator` class\n",
       "*/\n",
       "\n",
       "/* Pipeline and ColumnTransformer style (default) */\n",
       "\n",
       "#sk-container-id-1 div.sk-toggleable {\n",
       "  /* Default theme specific background. It is overwritten whether we have a\n",
       "  specific estimator or a Pipeline/ColumnTransformer */\n",
       "  background-color: var(--sklearn-color-background);\n",
       "}\n",
       "\n",
       "/* Toggleable label */\n",
       "#sk-container-id-1 label.sk-toggleable__label {\n",
       "  cursor: pointer;\n",
       "  display: block;\n",
       "  width: 100%;\n",
       "  margin-bottom: 0;\n",
       "  padding: 0.5em;\n",
       "  box-sizing: border-box;\n",
       "  text-align: center;\n",
       "}\n",
       "\n",
       "#sk-container-id-1 label.sk-toggleable__label-arrow:before {\n",
       "  /* Arrow on the left of the label */\n",
       "  content: \"▸\";\n",
       "  float: left;\n",
       "  margin-right: 0.25em;\n",
       "  color: var(--sklearn-color-icon);\n",
       "}\n",
       "\n",
       "#sk-container-id-1 label.sk-toggleable__label-arrow:hover:before {\n",
       "  color: var(--sklearn-color-text);\n",
       "}\n",
       "\n",
       "/* Toggleable content - dropdown */\n",
       "\n",
       "#sk-container-id-1 div.sk-toggleable__content {\n",
       "  max-height: 0;\n",
       "  max-width: 0;\n",
       "  overflow: hidden;\n",
       "  text-align: left;\n",
       "  /* unfitted */\n",
       "  background-color: var(--sklearn-color-unfitted-level-0);\n",
       "}\n",
       "\n",
       "#sk-container-id-1 div.sk-toggleable__content.fitted {\n",
       "  /* fitted */\n",
       "  background-color: var(--sklearn-color-fitted-level-0);\n",
       "}\n",
       "\n",
       "#sk-container-id-1 div.sk-toggleable__content pre {\n",
       "  margin: 0.2em;\n",
       "  border-radius: 0.25em;\n",
       "  color: var(--sklearn-color-text);\n",
       "  /* unfitted */\n",
       "  background-color: var(--sklearn-color-unfitted-level-0);\n",
       "}\n",
       "\n",
       "#sk-container-id-1 div.sk-toggleable__content.fitted pre {\n",
       "  /* unfitted */\n",
       "  background-color: var(--sklearn-color-fitted-level-0);\n",
       "}\n",
       "\n",
       "#sk-container-id-1 input.sk-toggleable__control:checked~div.sk-toggleable__content {\n",
       "  /* Expand drop-down */\n",
       "  max-height: 200px;\n",
       "  max-width: 100%;\n",
       "  overflow: auto;\n",
       "}\n",
       "\n",
       "#sk-container-id-1 input.sk-toggleable__control:checked~label.sk-toggleable__label-arrow:before {\n",
       "  content: \"▾\";\n",
       "}\n",
       "\n",
       "/* Pipeline/ColumnTransformer-specific style */\n",
       "\n",
       "#sk-container-id-1 div.sk-label input.sk-toggleable__control:checked~label.sk-toggleable__label {\n",
       "  color: var(--sklearn-color-text);\n",
       "  background-color: var(--sklearn-color-unfitted-level-2);\n",
       "}\n",
       "\n",
       "#sk-container-id-1 div.sk-label.fitted input.sk-toggleable__control:checked~label.sk-toggleable__label {\n",
       "  background-color: var(--sklearn-color-fitted-level-2);\n",
       "}\n",
       "\n",
       "/* Estimator-specific style */\n",
       "\n",
       "/* Colorize estimator box */\n",
       "#sk-container-id-1 div.sk-estimator input.sk-toggleable__control:checked~label.sk-toggleable__label {\n",
       "  /* unfitted */\n",
       "  background-color: var(--sklearn-color-unfitted-level-2);\n",
       "}\n",
       "\n",
       "#sk-container-id-1 div.sk-estimator.fitted input.sk-toggleable__control:checked~label.sk-toggleable__label {\n",
       "  /* fitted */\n",
       "  background-color: var(--sklearn-color-fitted-level-2);\n",
       "}\n",
       "\n",
       "#sk-container-id-1 div.sk-label label.sk-toggleable__label,\n",
       "#sk-container-id-1 div.sk-label label {\n",
       "  /* The background is the default theme color */\n",
       "  color: var(--sklearn-color-text-on-default-background);\n",
       "}\n",
       "\n",
       "/* On hover, darken the color of the background */\n",
       "#sk-container-id-1 div.sk-label:hover label.sk-toggleable__label {\n",
       "  color: var(--sklearn-color-text);\n",
       "  background-color: var(--sklearn-color-unfitted-level-2);\n",
       "}\n",
       "\n",
       "/* Label box, darken color on hover, fitted */\n",
       "#sk-container-id-1 div.sk-label.fitted:hover label.sk-toggleable__label.fitted {\n",
       "  color: var(--sklearn-color-text);\n",
       "  background-color: var(--sklearn-color-fitted-level-2);\n",
       "}\n",
       "\n",
       "/* Estimator label */\n",
       "\n",
       "#sk-container-id-1 div.sk-label label {\n",
       "  font-family: monospace;\n",
       "  font-weight: bold;\n",
       "  display: inline-block;\n",
       "  line-height: 1.2em;\n",
       "}\n",
       "\n",
       "#sk-container-id-1 div.sk-label-container {\n",
       "  text-align: center;\n",
       "}\n",
       "\n",
       "/* Estimator-specific */\n",
       "#sk-container-id-1 div.sk-estimator {\n",
       "  font-family: monospace;\n",
       "  border: 1px dotted var(--sklearn-color-border-box);\n",
       "  border-radius: 0.25em;\n",
       "  box-sizing: border-box;\n",
       "  margin-bottom: 0.5em;\n",
       "  /* unfitted */\n",
       "  background-color: var(--sklearn-color-unfitted-level-0);\n",
       "}\n",
       "\n",
       "#sk-container-id-1 div.sk-estimator.fitted {\n",
       "  /* fitted */\n",
       "  background-color: var(--sklearn-color-fitted-level-0);\n",
       "}\n",
       "\n",
       "/* on hover */\n",
       "#sk-container-id-1 div.sk-estimator:hover {\n",
       "  /* unfitted */\n",
       "  background-color: var(--sklearn-color-unfitted-level-2);\n",
       "}\n",
       "\n",
       "#sk-container-id-1 div.sk-estimator.fitted:hover {\n",
       "  /* fitted */\n",
       "  background-color: var(--sklearn-color-fitted-level-2);\n",
       "}\n",
       "\n",
       "/* Specification for estimator info (e.g. \"i\" and \"?\") */\n",
       "\n",
       "/* Common style for \"i\" and \"?\" */\n",
       "\n",
       ".sk-estimator-doc-link,\n",
       "a:link.sk-estimator-doc-link,\n",
       "a:visited.sk-estimator-doc-link {\n",
       "  float: right;\n",
       "  font-size: smaller;\n",
       "  line-height: 1em;\n",
       "  font-family: monospace;\n",
       "  background-color: var(--sklearn-color-background);\n",
       "  border-radius: 1em;\n",
       "  height: 1em;\n",
       "  width: 1em;\n",
       "  text-decoration: none !important;\n",
       "  margin-left: 1ex;\n",
       "  /* unfitted */\n",
       "  border: var(--sklearn-color-unfitted-level-1) 1pt solid;\n",
       "  color: var(--sklearn-color-unfitted-level-1);\n",
       "}\n",
       "\n",
       ".sk-estimator-doc-link.fitted,\n",
       "a:link.sk-estimator-doc-link.fitted,\n",
       "a:visited.sk-estimator-doc-link.fitted {\n",
       "  /* fitted */\n",
       "  border: var(--sklearn-color-fitted-level-1) 1pt solid;\n",
       "  color: var(--sklearn-color-fitted-level-1);\n",
       "}\n",
       "\n",
       "/* On hover */\n",
       "div.sk-estimator:hover .sk-estimator-doc-link:hover,\n",
       ".sk-estimator-doc-link:hover,\n",
       "div.sk-label-container:hover .sk-estimator-doc-link:hover,\n",
       ".sk-estimator-doc-link:hover {\n",
       "  /* unfitted */\n",
       "  background-color: var(--sklearn-color-unfitted-level-3);\n",
       "  color: var(--sklearn-color-background);\n",
       "  text-decoration: none;\n",
       "}\n",
       "\n",
       "div.sk-estimator.fitted:hover .sk-estimator-doc-link.fitted:hover,\n",
       ".sk-estimator-doc-link.fitted:hover,\n",
       "div.sk-label-container:hover .sk-estimator-doc-link.fitted:hover,\n",
       ".sk-estimator-doc-link.fitted:hover {\n",
       "  /* fitted */\n",
       "  background-color: var(--sklearn-color-fitted-level-3);\n",
       "  color: var(--sklearn-color-background);\n",
       "  text-decoration: none;\n",
       "}\n",
       "\n",
       "/* Span, style for the box shown on hovering the info icon */\n",
       ".sk-estimator-doc-link span {\n",
       "  display: none;\n",
       "  z-index: 9999;\n",
       "  position: relative;\n",
       "  font-weight: normal;\n",
       "  right: .2ex;\n",
       "  padding: .5ex;\n",
       "  margin: .5ex;\n",
       "  width: min-content;\n",
       "  min-width: 20ex;\n",
       "  max-width: 50ex;\n",
       "  color: var(--sklearn-color-text);\n",
       "  box-shadow: 2pt 2pt 4pt #999;\n",
       "  /* unfitted */\n",
       "  background: var(--sklearn-color-unfitted-level-0);\n",
       "  border: .5pt solid var(--sklearn-color-unfitted-level-3);\n",
       "}\n",
       "\n",
       ".sk-estimator-doc-link.fitted span {\n",
       "  /* fitted */\n",
       "  background: var(--sklearn-color-fitted-level-0);\n",
       "  border: var(--sklearn-color-fitted-level-3);\n",
       "}\n",
       "\n",
       ".sk-estimator-doc-link:hover span {\n",
       "  display: block;\n",
       "}\n",
       "\n",
       "/* \"?\"-specific style due to the `<a>` HTML tag */\n",
       "\n",
       "#sk-container-id-1 a.estimator_doc_link {\n",
       "  float: right;\n",
       "  font-size: 1rem;\n",
       "  line-height: 1em;\n",
       "  font-family: monospace;\n",
       "  background-color: var(--sklearn-color-background);\n",
       "  border-radius: 1rem;\n",
       "  height: 1rem;\n",
       "  width: 1rem;\n",
       "  text-decoration: none;\n",
       "  /* unfitted */\n",
       "  color: var(--sklearn-color-unfitted-level-1);\n",
       "  border: var(--sklearn-color-unfitted-level-1) 1pt solid;\n",
       "}\n",
       "\n",
       "#sk-container-id-1 a.estimator_doc_link.fitted {\n",
       "  /* fitted */\n",
       "  border: var(--sklearn-color-fitted-level-1) 1pt solid;\n",
       "  color: var(--sklearn-color-fitted-level-1);\n",
       "}\n",
       "\n",
       "/* On hover */\n",
       "#sk-container-id-1 a.estimator_doc_link:hover {\n",
       "  /* unfitted */\n",
       "  background-color: var(--sklearn-color-unfitted-level-3);\n",
       "  color: var(--sklearn-color-background);\n",
       "  text-decoration: none;\n",
       "}\n",
       "\n",
       "#sk-container-id-1 a.estimator_doc_link.fitted:hover {\n",
       "  /* fitted */\n",
       "  background-color: var(--sklearn-color-fitted-level-3);\n",
       "}\n",
       "</style><div id=\"sk-container-id-1\" class=\"sk-top-container\"><div class=\"sk-text-repr-fallback\"><pre>LinearRegression()</pre><b>In a Jupyter environment, please rerun this cell to show the HTML representation or trust the notebook. <br />On GitHub, the HTML representation is unable to render, please try loading this page with nbviewer.org.</b></div><div class=\"sk-container\" hidden><div class=\"sk-item\"><div class=\"sk-estimator fitted sk-toggleable\"><input class=\"sk-toggleable__control sk-hidden--visually\" id=\"sk-estimator-id-1\" type=\"checkbox\" checked><label for=\"sk-estimator-id-1\" class=\"sk-toggleable__label fitted sk-toggleable__label-arrow fitted\">&nbsp;&nbsp;LinearRegression<a class=\"sk-estimator-doc-link fitted\" rel=\"noreferrer\" target=\"_blank\" href=\"https://scikit-learn.org/1.5/modules/generated/sklearn.linear_model.LinearRegression.html\">?<span>Documentation for LinearRegression</span></a><span class=\"sk-estimator-doc-link fitted\">i<span>Fitted</span></span></label><div class=\"sk-toggleable__content fitted\"><pre>LinearRegression()</pre></div> </div></div></div></div>"
      ],
      "text/plain": [
       "LinearRegression()"
      ]
     },
     "execution_count": 41,
     "metadata": {},
     "output_type": "execute_result"
    }
   ],
   "source": [
    "model1=LinearRegression()\n",
    "model1.fit(X,y)"
   ]
  },
  {
   "cell_type": "code",
   "execution_count": 42,
   "id": "b4519d98-e083-4d76-a52a-bc1564ee3238",
   "metadata": {},
   "outputs": [
    {
     "data": {
      "text/plain": [
       "array([11171.89653373, 11455.36686892,  6049.22226842, ...,\n",
       "        7351.99833039,  9603.30340747,  7203.17911201])"
      ]
     },
     "execution_count": 42,
     "metadata": {},
     "output_type": "execute_result"
    }
   ],
   "source": [
    "yhat_train=model1.predict(X_train)\n",
    "yhat_train"
   ]
  },
  {
   "cell_type": "code",
   "execution_count": 43,
   "id": "eae57b2b-17ed-4719-9476-a1e3c178462f",
   "metadata": {},
   "outputs": [
    {
     "data": {
      "text/plain": [
       "array([-14.32,  -0.  , -53.94,   3.35,  83.89,   0.15,  20.39,  92.02])"
      ]
     },
     "execution_count": 43,
     "metadata": {},
     "output_type": "execute_result"
    }
   ],
   "source": [
    "model1.coef_\n",
    "np.round((model1.coef_)/10,2)"
   ]
  },
  {
   "cell_type": "code",
   "execution_count": 44,
   "id": "a7ce0086-c14e-4d38-8f89-a37a00d3aaec",
   "metadata": {},
   "outputs": [
    {
     "data": {
      "text/html": [
       "<div>\n",
       "<style scoped>\n",
       "    .dataframe tbody tr th:only-of-type {\n",
       "        vertical-align: middle;\n",
       "    }\n",
       "\n",
       "    .dataframe tbody tr th {\n",
       "        vertical-align: top;\n",
       "    }\n",
       "\n",
       "    .dataframe thead th {\n",
       "        text-align: right;\n",
       "    }\n",
       "</style>\n",
       "<table border=\"1\" class=\"dataframe\">\n",
       "  <thead>\n",
       "    <tr style=\"text-align: right;\">\n",
       "      <th></th>\n",
       "      <th>Price</th>\n",
       "      <th>Age</th>\n",
       "      <th>KM</th>\n",
       "      <th>Fuel_Type</th>\n",
       "      <th>HP</th>\n",
       "      <th>Automatic</th>\n",
       "      <th>cc</th>\n",
       "      <th>Doors</th>\n",
       "      <th>Gears</th>\n",
       "      <th>Weight</th>\n",
       "    </tr>\n",
       "  </thead>\n",
       "  <tbody>\n",
       "    <tr>\n",
       "      <th>Price</th>\n",
       "      <td>1.000000</td>\n",
       "      <td>-0.876059</td>\n",
       "      <td>-0.568724</td>\n",
       "      <td>-0.016476</td>\n",
       "      <td>0.313836</td>\n",
       "      <td>0.027594</td>\n",
       "      <td>0.159904</td>\n",
       "      <td>0.182385</td>\n",
       "      <td>0.064171</td>\n",
       "      <td>0.574483</td>\n",
       "    </tr>\n",
       "    <tr>\n",
       "      <th>Age</th>\n",
       "      <td>-0.876059</td>\n",
       "      <td>1.000000</td>\n",
       "      <td>0.503851</td>\n",
       "      <td>0.076871</td>\n",
       "      <td>-0.154800</td>\n",
       "      <td>0.036396</td>\n",
       "      <td>-0.129482</td>\n",
       "      <td>-0.145941</td>\n",
       "      <td>-0.005799</td>\n",
       "      <td>-0.465226</td>\n",
       "    </tr>\n",
       "    <tr>\n",
       "      <th>KM</th>\n",
       "      <td>-0.568724</td>\n",
       "      <td>0.503851</td>\n",
       "      <td>1.000000</td>\n",
       "      <td>-0.424065</td>\n",
       "      <td>-0.332623</td>\n",
       "      <td>-0.078963</td>\n",
       "      <td>0.305675</td>\n",
       "      <td>-0.034308</td>\n",
       "      <td>0.014772</td>\n",
       "      <td>-0.022152</td>\n",
       "    </tr>\n",
       "    <tr>\n",
       "      <th>Fuel_Type</th>\n",
       "      <td>-0.016476</td>\n",
       "      <td>0.076871</td>\n",
       "      <td>-0.424065</td>\n",
       "      <td>1.000000</td>\n",
       "      <td>0.411897</td>\n",
       "      <td>0.068853</td>\n",
       "      <td>-0.646301</td>\n",
       "      <td>-0.025600</td>\n",
       "      <td>0.069598</td>\n",
       "      <td>-0.503756</td>\n",
       "    </tr>\n",
       "    <tr>\n",
       "      <th>HP</th>\n",
       "      <td>0.313836</td>\n",
       "      <td>-0.154800</td>\n",
       "      <td>-0.332623</td>\n",
       "      <td>0.411897</td>\n",
       "      <td>1.000000</td>\n",
       "      <td>0.011753</td>\n",
       "      <td>0.049366</td>\n",
       "      <td>0.091444</td>\n",
       "      <td>0.209722</td>\n",
       "      <td>0.086464</td>\n",
       "    </tr>\n",
       "    <tr>\n",
       "      <th>Automatic</th>\n",
       "      <td>0.027594</td>\n",
       "      <td>0.036396</td>\n",
       "      <td>-0.078963</td>\n",
       "      <td>0.068853</td>\n",
       "      <td>0.011753</td>\n",
       "      <td>1.000000</td>\n",
       "      <td>-0.069990</td>\n",
       "      <td>-0.030600</td>\n",
       "      <td>-0.098764</td>\n",
       "      <td>0.052972</td>\n",
       "    </tr>\n",
       "    <tr>\n",
       "      <th>cc</th>\n",
       "      <td>0.159904</td>\n",
       "      <td>-0.129482</td>\n",
       "      <td>0.305675</td>\n",
       "      <td>-0.646301</td>\n",
       "      <td>0.049366</td>\n",
       "      <td>-0.069990</td>\n",
       "      <td>1.000000</td>\n",
       "      <td>0.125329</td>\n",
       "      <td>0.041015</td>\n",
       "      <td>0.650814</td>\n",
       "    </tr>\n",
       "    <tr>\n",
       "      <th>Doors</th>\n",
       "      <td>0.182385</td>\n",
       "      <td>-0.145941</td>\n",
       "      <td>-0.034308</td>\n",
       "      <td>-0.025600</td>\n",
       "      <td>0.091444</td>\n",
       "      <td>-0.030600</td>\n",
       "      <td>0.125329</td>\n",
       "      <td>1.000000</td>\n",
       "      <td>-0.160060</td>\n",
       "      <td>0.300827</td>\n",
       "    </tr>\n",
       "    <tr>\n",
       "      <th>Gears</th>\n",
       "      <td>0.064171</td>\n",
       "      <td>-0.005799</td>\n",
       "      <td>0.014772</td>\n",
       "      <td>0.069598</td>\n",
       "      <td>0.209722</td>\n",
       "      <td>-0.098764</td>\n",
       "      <td>0.041015</td>\n",
       "      <td>-0.160060</td>\n",
       "      <td>1.000000</td>\n",
       "      <td>0.021472</td>\n",
       "    </tr>\n",
       "    <tr>\n",
       "      <th>Weight</th>\n",
       "      <td>0.574483</td>\n",
       "      <td>-0.465226</td>\n",
       "      <td>-0.022152</td>\n",
       "      <td>-0.503756</td>\n",
       "      <td>0.086464</td>\n",
       "      <td>0.052972</td>\n",
       "      <td>0.650814</td>\n",
       "      <td>0.300827</td>\n",
       "      <td>0.021472</td>\n",
       "      <td>1.000000</td>\n",
       "    </tr>\n",
       "  </tbody>\n",
       "</table>\n",
       "</div>"
      ],
      "text/plain": [
       "              Price       Age        KM  Fuel_Type        HP  Automatic  \\\n",
       "Price      1.000000 -0.876059 -0.568724  -0.016476  0.313836   0.027594   \n",
       "Age       -0.876059  1.000000  0.503851   0.076871 -0.154800   0.036396   \n",
       "KM        -0.568724  0.503851  1.000000  -0.424065 -0.332623  -0.078963   \n",
       "Fuel_Type -0.016476  0.076871 -0.424065   1.000000  0.411897   0.068853   \n",
       "HP         0.313836 -0.154800 -0.332623   0.411897  1.000000   0.011753   \n",
       "Automatic  0.027594  0.036396 -0.078963   0.068853  0.011753   1.000000   \n",
       "cc         0.159904 -0.129482  0.305675  -0.646301  0.049366  -0.069990   \n",
       "Doors      0.182385 -0.145941 -0.034308  -0.025600  0.091444  -0.030600   \n",
       "Gears      0.064171 -0.005799  0.014772   0.069598  0.209722  -0.098764   \n",
       "Weight     0.574483 -0.465226 -0.022152  -0.503756  0.086464   0.052972   \n",
       "\n",
       "                 cc     Doors     Gears    Weight  \n",
       "Price      0.159904  0.182385  0.064171  0.574483  \n",
       "Age       -0.129482 -0.145941 -0.005799 -0.465226  \n",
       "KM         0.305675 -0.034308  0.014772 -0.022152  \n",
       "Fuel_Type -0.646301 -0.025600  0.069598 -0.503756  \n",
       "HP         0.049366  0.091444  0.209722  0.086464  \n",
       "Automatic -0.069990 -0.030600 -0.098764  0.052972  \n",
       "cc         1.000000  0.125329  0.041015  0.650814  \n",
       "Doors      0.125329  1.000000 -0.160060  0.300827  \n",
       "Gears      0.041015 -0.160060  1.000000  0.021472  \n",
       "Weight     0.650814  0.300827  0.021472  1.000000  "
      ]
     },
     "execution_count": 44,
     "metadata": {},
     "output_type": "execute_result"
    }
   ],
   "source": [
    "data.corr()"
   ]
  },
  {
   "cell_type": "code",
   "execution_count": 48,
   "id": "2ecd3c6d-c912-4179-aeb6-a899cdecae52",
   "metadata": {},
   "outputs": [],
   "source": [
    "yhat_test=model1.predict(X_test)"
   ]
  },
  {
   "cell_type": "markdown",
   "id": "583de4d5-7a9d-468e-82f5-56d7c2d9657f",
   "metadata": {},
   "source": [
    "### Evaluate the model"
   ]
  },
  {
   "cell_type": "code",
   "execution_count": 51,
   "id": "3c6daf86-03a8-4ac9-8abb-e6b6f8bfb62f",
   "metadata": {},
   "outputs": [],
   "source": [
    "from sklearn.metrics import mean_squared_error,r2_score\n"
   ]
  },
  {
   "cell_type": "markdown",
   "id": "e1b04d0f-17f7-41db-93b9-769604a2835f",
   "metadata": {},
   "source": [
    "### Training metrics"
   ]
  },
  {
   "cell_type": "code",
   "execution_count": 50,
   "id": "7437a6c5-1920-4d84-8e50-cbc78666b7bf",
   "metadata": {},
   "outputs": [
    {
     "data": {
      "text/plain": [
       "(2319162.08, 1522.88, 82.8)"
      ]
     },
     "execution_count": 50,
     "metadata": {},
     "output_type": "execute_result"
    }
   ],
   "source": [
    "train_mse=mean_squared_error(y_train,yhat_train)\n",
    "train_rmse=np.sqrt(train_mse)\n",
    "train_r2=r2_score(y_train,yhat_train)\n",
    "np.round(train_mse,2),np.round(train_rmse,2),np.round(train_r2*100,2)"
   ]
  },
  {
   "cell_type": "markdown",
   "id": "68d1fbf7-9e2e-43a8-b784-dfff02ff33ca",
   "metadata": {},
   "source": [
    "### Testing metrics"
   ]
  },
  {
   "cell_type": "code",
   "execution_count": 73,
   "id": "aa1a7494-1f9c-4285-9488-43e8375feabe",
   "metadata": {},
   "outputs": [
    {
     "data": {
      "text/plain": [
       "(1987617.05, 1409.83, 81.81)"
      ]
     },
     "execution_count": 73,
     "metadata": {},
     "output_type": "execute_result"
    }
   ],
   "source": [
    "test_mse=mean_squared_error(y_test,yhat_test)\n",
    "test_rmse=np.sqrt(test_mse)\n",
    "test_r2=r2_score(y_test,yhat_test)\n",
    "np.round(test_mse,2),np.round(test_rmse,2),np.round(test_r2*100,2)"
   ]
  },
  {
   "cell_type": "markdown",
   "id": "cb468c4d-b532-4445-a2bb-fb7d0434df91",
   "metadata": {},
   "source": [
    "### Residual analysis"
   ]
  },
  {
   "cell_type": "code",
   "execution_count": null,
   "id": "7cfc3736-4200-4ced-87c2-b2a78d9207e0",
   "metadata": {},
   "outputs": [],
   "source": [
    "import statsmodels.api as sm"
   ]
  },
  {
   "cell_type": "code",
   "execution_count": null,
   "id": "98e97595-41e3-4afe-8dfe-5f9351536acc",
   "metadata": {},
   "outputs": [],
   "source": [
    "model_resid=y_test-yhat_test"
   ]
  },
  {
   "cell_type": "code",
   "execution_count": null,
   "id": "96fb6b94-29ed-448d-acac-777e21d079b4",
   "metadata": {},
   "outputs": [],
   "source": [
    "plt.figure(figsize=(6,3))\n",
    "sns.kdeplot(model_resid)\n",
    "plt.show()"
   ]
  },
  {
   "cell_type": "code",
   "execution_count": null,
   "id": "52167a9c-f03b-4dd5-b3f5-7f3737043ca1",
   "metadata": {},
   "outputs": [],
   "source": [
    "qqplot=sm.qqplot(model_resid,line='q')\n",
    "plt.title('Normak Q-Q plot of residuals')\n",
    "plt.show()"
   ]
  },
  {
   "cell_type": "markdown",
   "id": "087dc90e-4980-477d-91ff-d7669062cc2d",
   "metadata": {},
   "source": [
    "#### Test for homoscedasticity"
   ]
  },
  {
   "cell_type": "code",
   "execution_count": null,
   "id": "bd7b3673-3730-403c-932f-6be641039fc0",
   "metadata": {},
   "outputs": [],
   "source": [
    "def get_standardized_values(vals):\n",
    "    return (vals-vals.mean())/vals.std()"
   ]
  },
  {
   "cell_type": "code",
   "execution_count": null,
   "id": "74fc4e66-542b-4115-ac9a-c0ef19771c82",
   "metadata": {},
   "outputs": [],
   "source": [
    "plt.figure(figsize=(6,3))\n",
    "plt.scatter(get_standardized_values(yhat_test),\n",
    "            get_standardized_values(model_resid))\n",
    "plt.title('Residual Plot')\n",
    "plt.xlabel('Standardized Fitted values')\n",
    "plt.ylabel('Standardized residual values')\n",
    "plt.show()"
   ]
  },
  {
   "cell_type": "code",
   "execution_count": null,
   "id": "39502736-43a1-42c6-8e79-5c44488872c6",
   "metadata": {},
   "outputs": [],
   "source": []
  },
  {
   "cell_type": "markdown",
   "id": "c72d90bc-de7f-42e7-828a-de8fd8e20331",
   "metadata": {},
   "source": [
    "#### Model2"
   ]
  },
  {
   "cell_type": "code",
   "execution_count": null,
   "id": "0c16c827-24a5-490b-b600-a2c1927366ff",
   "metadata": {},
   "outputs": [],
   "source": [
    "import statsmodels.formula.api as smf\n",
    "mlr=smf.ols('Price~Age+KM+Fuel_Type+HP+Automatic+cc+Doors+Gears+Weight',data=data)\n",
    "model=mlr.fit()"
   ]
  },
  {
   "cell_type": "code",
   "execution_count": null,
   "id": "974e0355-0d2f-49f7-820b-360e7daaad10",
   "metadata": {},
   "outputs": [],
   "source": [
    "model.summary()"
   ]
  },
  {
   "cell_type": "code",
   "execution_count": null,
   "id": "934ce336-cf98-434d-b8d9-675c29f0a112",
   "metadata": {},
   "outputs": [],
   "source": [
    "#Coefficients\n",
    "model.params"
   ]
  },
  {
   "cell_type": "code",
   "execution_count": null,
   "id": "4393512d-6508-4588-b36f-76edb40317b0",
   "metadata": {},
   "outputs": [],
   "source": [
    "#t and p-Values\n",
    "print(model.tvalues, '\\n', model.pvalues)"
   ]
  },
  {
   "cell_type": "code",
   "execution_count": null,
   "id": "a0098987-bae2-413f-b4e8-de52d288abb0",
   "metadata": {},
   "outputs": [],
   "source": [
    "#R squared values\n",
    "(model.rsquared,model.rsquared_adj)"
   ]
  },
  {
   "cell_type": "code",
   "execution_count": null,
   "id": "1714f0b0-0c0c-4297-ad95-ee95c2bd0530",
   "metadata": {},
   "outputs": [],
   "source": [
    "ml_HP=smf.ols('Price~HP',data=data).fit()\n"
   ]
  },
  {
   "cell_type": "code",
   "execution_count": null,
   "id": "f8408cd0-72c5-4e4c-8531-46214a05156a",
   "metadata": {},
   "outputs": [],
   "source": [
    "ml_HP.summary()"
   ]
  },
  {
   "cell_type": "code",
   "execution_count": null,
   "id": "c6695a66-57ff-46cc-8f97-8dfccf5d994d",
   "metadata": {},
   "outputs": [],
   "source": [
    "ml_cc=smf.ols('Price~cc',data=data).fit()"
   ]
  },
  {
   "cell_type": "code",
   "execution_count": null,
   "id": "22b48fa8-0aff-4c49-b3d3-15995cbe6ee1",
   "metadata": {},
   "outputs": [],
   "source": [
    "ml_cc.summary()"
   ]
  },
  {
   "cell_type": "code",
   "execution_count": null,
   "id": "bcd7ddc8-f82e-48ff-9070-2ea7915e3b70",
   "metadata": {},
   "outputs": [],
   "source": [
    "ml_AGE=smf.ols('Price~Age',data=data).fit()\n"
   ]
  },
  {
   "cell_type": "code",
   "execution_count": null,
   "id": "f477f202-f17e-4135-be2d-f4fdff94089e",
   "metadata": {},
   "outputs": [],
   "source": [
    "ml_AGE.summary()"
   ]
  },
  {
   "cell_type": "code",
   "execution_count": null,
   "id": "0ad9d500-b9bd-4fb2-9e8e-d8d2ab3148e7",
   "metadata": {},
   "outputs": [],
   "source": [
    "ml_ch=smf.ols('Price~cc+HP',data=data).fit()\n",
    "ml_ch.summary()"
   ]
  },
  {
   "cell_type": "code",
   "execution_count": null,
   "id": "9eb7f025-f3c1-4f89-b40b-c29f032d9768",
   "metadata": {},
   "outputs": [],
   "source": [
    "data.head()"
   ]
  },
  {
   "cell_type": "markdown",
   "id": "6170bbae-fc93-4b47-87ea-0a1829cc1406",
   "metadata": {},
   "source": [
    "#### Calculating VIF"
   ]
  },
  {
   "cell_type": "code",
   "execution_count": null,
   "id": "3f51191b-bdab-4789-8731-7b7d995b15db",
   "metadata": {},
   "outputs": [],
   "source": [
    "rsq_Age=smf.ols('Age~KM+Fuel_Type+HP+Automatic+cc+Doors+Gears+Weight',data=data).fit().rsquared\n",
    "vif_Age=1/(1-rsq_Age)\n",
    "rsq_KM=smf.ols('KM~Age+Fuel_Type+HP+Automatic+cc+Doors+Gears+Weight',data=data).fit().rsquared\n",
    "vif_KM=1/(1-rsq_KM)\n",
    "rsq_Fuel=smf.ols('Fuel_Type~Age+KM+HP+Automatic+cc+Doors+Gears+Weight',data=data).fit().rsquared\n",
    "vif_Fuel=1/(1-rsq_Fuel)\n",
    "rsq_HP=smf.ols('HP~Age+KM+Fuel_Type+Automatic+cc+Doors+Gears+Weight',data=data).fit().rsquared\n",
    "vif_hp=1/(1-rsq_HP)\n",
    "rsq_Atmtc=smf.ols('Automatic~Age+KM+Fuel_Type+HP+cc+Doors+Gears+Weight',data=data).fit().rsquared\n",
    "vif_Atmtc=1/(1-rsq_Atmtc)\n",
    "rsq_cc=smf.ols('cc~Age+KM+Fuel_Type+HP+Automatic+Doors+Gears+Weight',data=data).fit().rsquared\n",
    "vif_cc=1/(1-rsq_cc)\n",
    "rsq_Doors=smf.ols('Doors~Age+KM+Fuel_Type+HP+Automatic+cc+Gears+Weight',data=data).fit().rsquared\n",
    "vif_Doors=1/(1-rsq_Doors)\n",
    "rsq_Gears=smf.ols('Gears~Age+KM+Fuel_Type+HP+Automatic+cc+Doors+Weight',data=data).fit().rsquared\n",
    "vif_Gears=1/(1-rsq_Gears)\n",
    "rsq_Weight=smf.ols('Weight~Age+KM+Fuel_Type+HP+Automatic+cc+Doors+Gears',data=data).fit().rsquared\n",
    "vif_Weight=1/(1-rsq_Weight)\n",
    "d1={'variables':['Age','KM','Fuel_Type','HP','Automatic','cc','Doors','Gears','Weight'],'VIF':[vif_Age,vif_KM,vif_Fuel,vif_hp,vif_Atmtc,vif_cc,vif_Doors,vif_Gears,vif_Weight]}"
   ]
  },
  {
   "cell_type": "code",
   "execution_count": null,
   "id": "6150c513-15aa-4b8d-a56b-6ab6f0ba6be3",
   "metadata": {},
   "outputs": [],
   "source": [
    "VIF_df=pd.DataFrame(d1)\n",
    "VIF_df"
   ]
  },
  {
   "cell_type": "markdown",
   "id": "168ddde3-ed3d-4343-ab6c-645c36423f48",
   "metadata": {},
   "source": [
    "##### cc is correlated with weight"
   ]
  },
  {
   "cell_type": "markdown",
   "id": "f59bc048-37b1-4147-8935-bb8cc8ad7861",
   "metadata": {},
   "source": [
    "#### Cooks Distance"
   ]
  },
  {
   "cell_type": "code",
   "execution_count": null,
   "id": "ae3be078-8d6a-4f73-bfd4-b912e472d165",
   "metadata": {},
   "outputs": [],
   "source": [
    "model_influence=model.get_influence()\n",
    "(c,_)=model_influence.cooks_distance"
   ]
  },
  {
   "cell_type": "code",
   "execution_count": null,
   "id": "13713301-ceb0-469e-8498-378bfaa3fdc6",
   "metadata": {},
   "outputs": [],
   "source": [
    "#Plot the influencers values using stem plot\n",
    "fig=plt.subplots(figsize=(20,7))\n",
    "plt.stem(np.arange(len(data)),np.round(c,3))\n",
    "plt.show()"
   ]
  },
  {
   "cell_type": "code",
   "execution_count": null,
   "id": "7237680e-70fc-411c-9ea3-b863b652e7dd",
   "metadata": {},
   "outputs": [],
   "source": [
    "np.argmax(c),np.max(c)"
   ]
  },
  {
   "cell_type": "markdown",
   "id": "c5f5c300-2f25-4ac1-a377-80708187c5ff",
   "metadata": {},
   "source": [
    "#### High Influence points"
   ]
  },
  {
   "cell_type": "code",
   "execution_count": null,
   "id": "e04a4e1d-05ab-4b66-a23c-2cda63d857ad",
   "metadata": {},
   "outputs": [],
   "source": [
    "from statsmodels.graphics.regressionplots import influence_plot\n",
    "influence_plot(model)\n",
    "plt.show()"
   ]
  },
  {
   "cell_type": "code",
   "execution_count": null,
   "id": "c67bea58-1238-4314-87d0-8cba8d83cc9e",
   "metadata": {},
   "outputs": [],
   "source": [
    "data.shape\n"
   ]
  },
  {
   "cell_type": "code",
   "execution_count": null,
   "id": "5c58e410-cb51-4a0a-9cff-88c6725ab1cd",
   "metadata": {},
   "outputs": [],
   "source": [
    "k=data.shape[1]\n",
    "n=data.shape[0]\n",
    "leverage_cutoff=3*((k+1)/n)\n",
    "leverage_cutoff"
   ]
  },
  {
   "cell_type": "markdown",
   "id": "46032d77-c395-470b-8ef0-a7e9635e7cec",
   "metadata": {},
   "source": [
    "#### the leverage is very small"
   ]
  },
  {
   "cell_type": "code",
   "execution_count": null,
   "id": "86f8c135-03ea-46f2-a616-49e7e0c416ff",
   "metadata": {},
   "outputs": [],
   "source": [
    "data[data.index.isin([221,960,219])]"
   ]
  },
  {
   "cell_type": "markdown",
   "id": "457e463d-6e51-4149-8f9f-d06f626e3ee2",
   "metadata": {},
   "source": [
    "#### From the above plot it is evident that data point 219,221,960 are the influencers"
   ]
  },
  {
   "cell_type": "markdown",
   "id": "ca79e86d-461a-4797-8013-df2cba73765f",
   "metadata": {},
   "source": [
    "#### Improving the model"
   ]
  },
  {
   "cell_type": "code",
   "execution_count": null,
   "id": "f7be29cf-d484-42bf-91c5-bed1c24a8b3e",
   "metadata": {},
   "outputs": [],
   "source": [
    "data_new.head()"
   ]
  },
  {
   "cell_type": "code",
   "execution_count": null,
   "id": "1150fa92-98cc-4f95-b3d6-631280a92690",
   "metadata": {},
   "outputs": [],
   "source": [
    "data.shape"
   ]
  },
  {
   "cell_type": "code",
   "execution_count": null,
   "id": "6aca3654-abad-4dc5-b1c7-c4c880829e9e",
   "metadata": {},
   "outputs": [],
   "source": [
    "data1=data_new.drop(data_new.index[[221,960,219]],axis=0).reset_index()\n",
    "data1"
   ]
  },
  {
   "cell_type": "code",
   "execution_count": null,
   "id": "867fcf3a-9cba-4a32-8b5e-c876475f1fc7",
   "metadata": {},
   "outputs": [],
   "source": [
    "data1=data1.drop(['index'],axis=1)"
   ]
  },
  {
   "cell_type": "code",
   "execution_count": null,
   "id": "d039785e-d301-416c-9382-777837258146",
   "metadata": {},
   "outputs": [],
   "source": [
    "data1.head()"
   ]
  },
  {
   "cell_type": "markdown",
   "id": "93e718d4-2953-4e1c-a882-cf77ae29b0fb",
   "metadata": {},
   "source": [
    "#### Build the model"
   ]
  },
  {
   "cell_type": "code",
   "execution_count": null,
   "id": "759e8c7f-a3c6-4024-83ec-75e087a34fec",
   "metadata": {},
   "outputs": [],
   "source": [
    "final_ml=smf.ols('Price~Age+KM+Fuel_Type+HP+Automatic+cc+Doors+Gears+Weight',data=data1).fit()\n",
    "final_ml.summary()"
   ]
  },
  {
   "cell_type": "markdown",
   "id": "8ca1c128-cb49-400a-9afc-7bf092a99d22",
   "metadata": {},
   "source": [
    "### Conclusion\n",
    "All VIF values are well below 5, which is the common threshold for multicollinearity concern.\n",
    "\n",
    "No predictor is highly linearly dependent on others.\n",
    "\n",
    "So there is no multicolinearity problem"
   ]
  },
  {
   "cell_type": "markdown",
   "id": "50280026-fcba-4cc5-8bdf-80f07e50baa4",
   "metadata": {},
   "source": [
    "#### Model3 Lasso and ridge"
   ]
  },
  {
   "cell_type": "markdown",
   "id": "59a22109-7111-4b84-990d-23551ec7c39e",
   "metadata": {},
   "source": [
    "#### Lasso"
   ]
  },
  {
   "cell_type": "code",
   "execution_count": 55,
   "id": "6e69f2c0-328d-4dea-86dd-b04f47d82f56",
   "metadata": {},
   "outputs": [],
   "source": [
    "from sklearn.linear_model import Lasso "
   ]
  },
  {
   "cell_type": "code",
   "execution_count": 56,
   "id": "19c84859-ac34-428f-ad1d-8a07cc561935",
   "metadata": {},
   "outputs": [
    {
     "data": {
      "text/html": [
       "<div>\n",
       "<style scoped>\n",
       "    .dataframe tbody tr th:only-of-type {\n",
       "        vertical-align: middle;\n",
       "    }\n",
       "\n",
       "    .dataframe tbody tr th {\n",
       "        vertical-align: top;\n",
       "    }\n",
       "\n",
       "    .dataframe thead th {\n",
       "        text-align: right;\n",
       "    }\n",
       "</style>\n",
       "<table border=\"1\" class=\"dataframe\">\n",
       "  <thead>\n",
       "    <tr style=\"text-align: right;\">\n",
       "      <th></th>\n",
       "      <th>Age</th>\n",
       "      <th>KM</th>\n",
       "      <th>Fuel_Type</th>\n",
       "      <th>HP</th>\n",
       "      <th>Automatic</th>\n",
       "      <th>cc</th>\n",
       "      <th>Doors</th>\n",
       "      <th>Gears</th>\n",
       "    </tr>\n",
       "  </thead>\n",
       "  <tbody>\n",
       "    <tr>\n",
       "      <th>0</th>\n",
       "      <td>23</td>\n",
       "      <td>46986</td>\n",
       "      <td>1</td>\n",
       "      <td>90</td>\n",
       "      <td>0</td>\n",
       "      <td>2000</td>\n",
       "      <td>3</td>\n",
       "      <td>5</td>\n",
       "    </tr>\n",
       "    <tr>\n",
       "      <th>1</th>\n",
       "      <td>23</td>\n",
       "      <td>72937</td>\n",
       "      <td>1</td>\n",
       "      <td>90</td>\n",
       "      <td>0</td>\n",
       "      <td>2000</td>\n",
       "      <td>3</td>\n",
       "      <td>5</td>\n",
       "    </tr>\n",
       "    <tr>\n",
       "      <th>2</th>\n",
       "      <td>24</td>\n",
       "      <td>41711</td>\n",
       "      <td>1</td>\n",
       "      <td>90</td>\n",
       "      <td>0</td>\n",
       "      <td>2000</td>\n",
       "      <td>3</td>\n",
       "      <td>5</td>\n",
       "    </tr>\n",
       "    <tr>\n",
       "      <th>3</th>\n",
       "      <td>26</td>\n",
       "      <td>48000</td>\n",
       "      <td>1</td>\n",
       "      <td>90</td>\n",
       "      <td>0</td>\n",
       "      <td>2000</td>\n",
       "      <td>3</td>\n",
       "      <td>5</td>\n",
       "    </tr>\n",
       "    <tr>\n",
       "      <th>4</th>\n",
       "      <td>30</td>\n",
       "      <td>38500</td>\n",
       "      <td>1</td>\n",
       "      <td>90</td>\n",
       "      <td>0</td>\n",
       "      <td>2000</td>\n",
       "      <td>3</td>\n",
       "      <td>5</td>\n",
       "    </tr>\n",
       "  </tbody>\n",
       "</table>\n",
       "</div>"
      ],
      "text/plain": [
       "   Age     KM  Fuel_Type  HP  Automatic    cc  Doors  Gears\n",
       "0   23  46986          1  90          0  2000      3      5\n",
       "1   23  72937          1  90          0  2000      3      5\n",
       "2   24  41711          1  90          0  2000      3      5\n",
       "3   26  48000          1  90          0  2000      3      5\n",
       "4   30  38500          1  90          0  2000      3      5"
      ]
     },
     "execution_count": 56,
     "metadata": {},
     "output_type": "execute_result"
    }
   ],
   "source": [
    "X.head()"
   ]
  },
  {
   "cell_type": "code",
   "execution_count": 61,
   "id": "fbee0823-bed9-4548-b1ce-ce279d17652d",
   "metadata": {},
   "outputs": [
    {
     "data": {
      "text/plain": [
       "0    13500\n",
       "1    13750\n",
       "2    13950\n",
       "3    14950\n",
       "4    13750\n",
       "Name: Price, dtype: int64"
      ]
     },
     "execution_count": 61,
     "metadata": {},
     "output_type": "execute_result"
    }
   ],
   "source": [
    "y.head()"
   ]
  },
  {
   "cell_type": "code",
   "execution_count": 57,
   "id": "28124898-f09f-4e5e-a6f2-9121825ef6f2",
   "metadata": {},
   "outputs": [
    {
     "data": {
      "text/html": [
       "<style>#sk-container-id-2 {\n",
       "  /* Definition of color scheme common for light and dark mode */\n",
       "  --sklearn-color-text: black;\n",
       "  --sklearn-color-line: gray;\n",
       "  /* Definition of color scheme for unfitted estimators */\n",
       "  --sklearn-color-unfitted-level-0: #fff5e6;\n",
       "  --sklearn-color-unfitted-level-1: #f6e4d2;\n",
       "  --sklearn-color-unfitted-level-2: #ffe0b3;\n",
       "  --sklearn-color-unfitted-level-3: chocolate;\n",
       "  /* Definition of color scheme for fitted estimators */\n",
       "  --sklearn-color-fitted-level-0: #f0f8ff;\n",
       "  --sklearn-color-fitted-level-1: #d4ebff;\n",
       "  --sklearn-color-fitted-level-2: #b3dbfd;\n",
       "  --sklearn-color-fitted-level-3: cornflowerblue;\n",
       "\n",
       "  /* Specific color for light theme */\n",
       "  --sklearn-color-text-on-default-background: var(--sg-text-color, var(--theme-code-foreground, var(--jp-content-font-color1, black)));\n",
       "  --sklearn-color-background: var(--sg-background-color, var(--theme-background, var(--jp-layout-color0, white)));\n",
       "  --sklearn-color-border-box: var(--sg-text-color, var(--theme-code-foreground, var(--jp-content-font-color1, black)));\n",
       "  --sklearn-color-icon: #696969;\n",
       "\n",
       "  @media (prefers-color-scheme: dark) {\n",
       "    /* Redefinition of color scheme for dark theme */\n",
       "    --sklearn-color-text-on-default-background: var(--sg-text-color, var(--theme-code-foreground, var(--jp-content-font-color1, white)));\n",
       "    --sklearn-color-background: var(--sg-background-color, var(--theme-background, var(--jp-layout-color0, #111)));\n",
       "    --sklearn-color-border-box: var(--sg-text-color, var(--theme-code-foreground, var(--jp-content-font-color1, white)));\n",
       "    --sklearn-color-icon: #878787;\n",
       "  }\n",
       "}\n",
       "\n",
       "#sk-container-id-2 {\n",
       "  color: var(--sklearn-color-text);\n",
       "}\n",
       "\n",
       "#sk-container-id-2 pre {\n",
       "  padding: 0;\n",
       "}\n",
       "\n",
       "#sk-container-id-2 input.sk-hidden--visually {\n",
       "  border: 0;\n",
       "  clip: rect(1px 1px 1px 1px);\n",
       "  clip: rect(1px, 1px, 1px, 1px);\n",
       "  height: 1px;\n",
       "  margin: -1px;\n",
       "  overflow: hidden;\n",
       "  padding: 0;\n",
       "  position: absolute;\n",
       "  width: 1px;\n",
       "}\n",
       "\n",
       "#sk-container-id-2 div.sk-dashed-wrapped {\n",
       "  border: 1px dashed var(--sklearn-color-line);\n",
       "  margin: 0 0.4em 0.5em 0.4em;\n",
       "  box-sizing: border-box;\n",
       "  padding-bottom: 0.4em;\n",
       "  background-color: var(--sklearn-color-background);\n",
       "}\n",
       "\n",
       "#sk-container-id-2 div.sk-container {\n",
       "  /* jupyter's `normalize.less` sets `[hidden] { display: none; }`\n",
       "     but bootstrap.min.css set `[hidden] { display: none !important; }`\n",
       "     so we also need the `!important` here to be able to override the\n",
       "     default hidden behavior on the sphinx rendered scikit-learn.org.\n",
       "     See: https://github.com/scikit-learn/scikit-learn/issues/21755 */\n",
       "  display: inline-block !important;\n",
       "  position: relative;\n",
       "}\n",
       "\n",
       "#sk-container-id-2 div.sk-text-repr-fallback {\n",
       "  display: none;\n",
       "}\n",
       "\n",
       "div.sk-parallel-item,\n",
       "div.sk-serial,\n",
       "div.sk-item {\n",
       "  /* draw centered vertical line to link estimators */\n",
       "  background-image: linear-gradient(var(--sklearn-color-text-on-default-background), var(--sklearn-color-text-on-default-background));\n",
       "  background-size: 2px 100%;\n",
       "  background-repeat: no-repeat;\n",
       "  background-position: center center;\n",
       "}\n",
       "\n",
       "/* Parallel-specific style estimator block */\n",
       "\n",
       "#sk-container-id-2 div.sk-parallel-item::after {\n",
       "  content: \"\";\n",
       "  width: 100%;\n",
       "  border-bottom: 2px solid var(--sklearn-color-text-on-default-background);\n",
       "  flex-grow: 1;\n",
       "}\n",
       "\n",
       "#sk-container-id-2 div.sk-parallel {\n",
       "  display: flex;\n",
       "  align-items: stretch;\n",
       "  justify-content: center;\n",
       "  background-color: var(--sklearn-color-background);\n",
       "  position: relative;\n",
       "}\n",
       "\n",
       "#sk-container-id-2 div.sk-parallel-item {\n",
       "  display: flex;\n",
       "  flex-direction: column;\n",
       "}\n",
       "\n",
       "#sk-container-id-2 div.sk-parallel-item:first-child::after {\n",
       "  align-self: flex-end;\n",
       "  width: 50%;\n",
       "}\n",
       "\n",
       "#sk-container-id-2 div.sk-parallel-item:last-child::after {\n",
       "  align-self: flex-start;\n",
       "  width: 50%;\n",
       "}\n",
       "\n",
       "#sk-container-id-2 div.sk-parallel-item:only-child::after {\n",
       "  width: 0;\n",
       "}\n",
       "\n",
       "/* Serial-specific style estimator block */\n",
       "\n",
       "#sk-container-id-2 div.sk-serial {\n",
       "  display: flex;\n",
       "  flex-direction: column;\n",
       "  align-items: center;\n",
       "  background-color: var(--sklearn-color-background);\n",
       "  padding-right: 1em;\n",
       "  padding-left: 1em;\n",
       "}\n",
       "\n",
       "\n",
       "/* Toggleable style: style used for estimator/Pipeline/ColumnTransformer box that is\n",
       "clickable and can be expanded/collapsed.\n",
       "- Pipeline and ColumnTransformer use this feature and define the default style\n",
       "- Estimators will overwrite some part of the style using the `sk-estimator` class\n",
       "*/\n",
       "\n",
       "/* Pipeline and ColumnTransformer style (default) */\n",
       "\n",
       "#sk-container-id-2 div.sk-toggleable {\n",
       "  /* Default theme specific background. It is overwritten whether we have a\n",
       "  specific estimator or a Pipeline/ColumnTransformer */\n",
       "  background-color: var(--sklearn-color-background);\n",
       "}\n",
       "\n",
       "/* Toggleable label */\n",
       "#sk-container-id-2 label.sk-toggleable__label {\n",
       "  cursor: pointer;\n",
       "  display: block;\n",
       "  width: 100%;\n",
       "  margin-bottom: 0;\n",
       "  padding: 0.5em;\n",
       "  box-sizing: border-box;\n",
       "  text-align: center;\n",
       "}\n",
       "\n",
       "#sk-container-id-2 label.sk-toggleable__label-arrow:before {\n",
       "  /* Arrow on the left of the label */\n",
       "  content: \"▸\";\n",
       "  float: left;\n",
       "  margin-right: 0.25em;\n",
       "  color: var(--sklearn-color-icon);\n",
       "}\n",
       "\n",
       "#sk-container-id-2 label.sk-toggleable__label-arrow:hover:before {\n",
       "  color: var(--sklearn-color-text);\n",
       "}\n",
       "\n",
       "/* Toggleable content - dropdown */\n",
       "\n",
       "#sk-container-id-2 div.sk-toggleable__content {\n",
       "  max-height: 0;\n",
       "  max-width: 0;\n",
       "  overflow: hidden;\n",
       "  text-align: left;\n",
       "  /* unfitted */\n",
       "  background-color: var(--sklearn-color-unfitted-level-0);\n",
       "}\n",
       "\n",
       "#sk-container-id-2 div.sk-toggleable__content.fitted {\n",
       "  /* fitted */\n",
       "  background-color: var(--sklearn-color-fitted-level-0);\n",
       "}\n",
       "\n",
       "#sk-container-id-2 div.sk-toggleable__content pre {\n",
       "  margin: 0.2em;\n",
       "  border-radius: 0.25em;\n",
       "  color: var(--sklearn-color-text);\n",
       "  /* unfitted */\n",
       "  background-color: var(--sklearn-color-unfitted-level-0);\n",
       "}\n",
       "\n",
       "#sk-container-id-2 div.sk-toggleable__content.fitted pre {\n",
       "  /* unfitted */\n",
       "  background-color: var(--sklearn-color-fitted-level-0);\n",
       "}\n",
       "\n",
       "#sk-container-id-2 input.sk-toggleable__control:checked~div.sk-toggleable__content {\n",
       "  /* Expand drop-down */\n",
       "  max-height: 200px;\n",
       "  max-width: 100%;\n",
       "  overflow: auto;\n",
       "}\n",
       "\n",
       "#sk-container-id-2 input.sk-toggleable__control:checked~label.sk-toggleable__label-arrow:before {\n",
       "  content: \"▾\";\n",
       "}\n",
       "\n",
       "/* Pipeline/ColumnTransformer-specific style */\n",
       "\n",
       "#sk-container-id-2 div.sk-label input.sk-toggleable__control:checked~label.sk-toggleable__label {\n",
       "  color: var(--sklearn-color-text);\n",
       "  background-color: var(--sklearn-color-unfitted-level-2);\n",
       "}\n",
       "\n",
       "#sk-container-id-2 div.sk-label.fitted input.sk-toggleable__control:checked~label.sk-toggleable__label {\n",
       "  background-color: var(--sklearn-color-fitted-level-2);\n",
       "}\n",
       "\n",
       "/* Estimator-specific style */\n",
       "\n",
       "/* Colorize estimator box */\n",
       "#sk-container-id-2 div.sk-estimator input.sk-toggleable__control:checked~label.sk-toggleable__label {\n",
       "  /* unfitted */\n",
       "  background-color: var(--sklearn-color-unfitted-level-2);\n",
       "}\n",
       "\n",
       "#sk-container-id-2 div.sk-estimator.fitted input.sk-toggleable__control:checked~label.sk-toggleable__label {\n",
       "  /* fitted */\n",
       "  background-color: var(--sklearn-color-fitted-level-2);\n",
       "}\n",
       "\n",
       "#sk-container-id-2 div.sk-label label.sk-toggleable__label,\n",
       "#sk-container-id-2 div.sk-label label {\n",
       "  /* The background is the default theme color */\n",
       "  color: var(--sklearn-color-text-on-default-background);\n",
       "}\n",
       "\n",
       "/* On hover, darken the color of the background */\n",
       "#sk-container-id-2 div.sk-label:hover label.sk-toggleable__label {\n",
       "  color: var(--sklearn-color-text);\n",
       "  background-color: var(--sklearn-color-unfitted-level-2);\n",
       "}\n",
       "\n",
       "/* Label box, darken color on hover, fitted */\n",
       "#sk-container-id-2 div.sk-label.fitted:hover label.sk-toggleable__label.fitted {\n",
       "  color: var(--sklearn-color-text);\n",
       "  background-color: var(--sklearn-color-fitted-level-2);\n",
       "}\n",
       "\n",
       "/* Estimator label */\n",
       "\n",
       "#sk-container-id-2 div.sk-label label {\n",
       "  font-family: monospace;\n",
       "  font-weight: bold;\n",
       "  display: inline-block;\n",
       "  line-height: 1.2em;\n",
       "}\n",
       "\n",
       "#sk-container-id-2 div.sk-label-container {\n",
       "  text-align: center;\n",
       "}\n",
       "\n",
       "/* Estimator-specific */\n",
       "#sk-container-id-2 div.sk-estimator {\n",
       "  font-family: monospace;\n",
       "  border: 1px dotted var(--sklearn-color-border-box);\n",
       "  border-radius: 0.25em;\n",
       "  box-sizing: border-box;\n",
       "  margin-bottom: 0.5em;\n",
       "  /* unfitted */\n",
       "  background-color: var(--sklearn-color-unfitted-level-0);\n",
       "}\n",
       "\n",
       "#sk-container-id-2 div.sk-estimator.fitted {\n",
       "  /* fitted */\n",
       "  background-color: var(--sklearn-color-fitted-level-0);\n",
       "}\n",
       "\n",
       "/* on hover */\n",
       "#sk-container-id-2 div.sk-estimator:hover {\n",
       "  /* unfitted */\n",
       "  background-color: var(--sklearn-color-unfitted-level-2);\n",
       "}\n",
       "\n",
       "#sk-container-id-2 div.sk-estimator.fitted:hover {\n",
       "  /* fitted */\n",
       "  background-color: var(--sklearn-color-fitted-level-2);\n",
       "}\n",
       "\n",
       "/* Specification for estimator info (e.g. \"i\" and \"?\") */\n",
       "\n",
       "/* Common style for \"i\" and \"?\" */\n",
       "\n",
       ".sk-estimator-doc-link,\n",
       "a:link.sk-estimator-doc-link,\n",
       "a:visited.sk-estimator-doc-link {\n",
       "  float: right;\n",
       "  font-size: smaller;\n",
       "  line-height: 1em;\n",
       "  font-family: monospace;\n",
       "  background-color: var(--sklearn-color-background);\n",
       "  border-radius: 1em;\n",
       "  height: 1em;\n",
       "  width: 1em;\n",
       "  text-decoration: none !important;\n",
       "  margin-left: 1ex;\n",
       "  /* unfitted */\n",
       "  border: var(--sklearn-color-unfitted-level-1) 1pt solid;\n",
       "  color: var(--sklearn-color-unfitted-level-1);\n",
       "}\n",
       "\n",
       ".sk-estimator-doc-link.fitted,\n",
       "a:link.sk-estimator-doc-link.fitted,\n",
       "a:visited.sk-estimator-doc-link.fitted {\n",
       "  /* fitted */\n",
       "  border: var(--sklearn-color-fitted-level-1) 1pt solid;\n",
       "  color: var(--sklearn-color-fitted-level-1);\n",
       "}\n",
       "\n",
       "/* On hover */\n",
       "div.sk-estimator:hover .sk-estimator-doc-link:hover,\n",
       ".sk-estimator-doc-link:hover,\n",
       "div.sk-label-container:hover .sk-estimator-doc-link:hover,\n",
       ".sk-estimator-doc-link:hover {\n",
       "  /* unfitted */\n",
       "  background-color: var(--sklearn-color-unfitted-level-3);\n",
       "  color: var(--sklearn-color-background);\n",
       "  text-decoration: none;\n",
       "}\n",
       "\n",
       "div.sk-estimator.fitted:hover .sk-estimator-doc-link.fitted:hover,\n",
       ".sk-estimator-doc-link.fitted:hover,\n",
       "div.sk-label-container:hover .sk-estimator-doc-link.fitted:hover,\n",
       ".sk-estimator-doc-link.fitted:hover {\n",
       "  /* fitted */\n",
       "  background-color: var(--sklearn-color-fitted-level-3);\n",
       "  color: var(--sklearn-color-background);\n",
       "  text-decoration: none;\n",
       "}\n",
       "\n",
       "/* Span, style for the box shown on hovering the info icon */\n",
       ".sk-estimator-doc-link span {\n",
       "  display: none;\n",
       "  z-index: 9999;\n",
       "  position: relative;\n",
       "  font-weight: normal;\n",
       "  right: .2ex;\n",
       "  padding: .5ex;\n",
       "  margin: .5ex;\n",
       "  width: min-content;\n",
       "  min-width: 20ex;\n",
       "  max-width: 50ex;\n",
       "  color: var(--sklearn-color-text);\n",
       "  box-shadow: 2pt 2pt 4pt #999;\n",
       "  /* unfitted */\n",
       "  background: var(--sklearn-color-unfitted-level-0);\n",
       "  border: .5pt solid var(--sklearn-color-unfitted-level-3);\n",
       "}\n",
       "\n",
       ".sk-estimator-doc-link.fitted span {\n",
       "  /* fitted */\n",
       "  background: var(--sklearn-color-fitted-level-0);\n",
       "  border: var(--sklearn-color-fitted-level-3);\n",
       "}\n",
       "\n",
       ".sk-estimator-doc-link:hover span {\n",
       "  display: block;\n",
       "}\n",
       "\n",
       "/* \"?\"-specific style due to the `<a>` HTML tag */\n",
       "\n",
       "#sk-container-id-2 a.estimator_doc_link {\n",
       "  float: right;\n",
       "  font-size: 1rem;\n",
       "  line-height: 1em;\n",
       "  font-family: monospace;\n",
       "  background-color: var(--sklearn-color-background);\n",
       "  border-radius: 1rem;\n",
       "  height: 1rem;\n",
       "  width: 1rem;\n",
       "  text-decoration: none;\n",
       "  /* unfitted */\n",
       "  color: var(--sklearn-color-unfitted-level-1);\n",
       "  border: var(--sklearn-color-unfitted-level-1) 1pt solid;\n",
       "}\n",
       "\n",
       "#sk-container-id-2 a.estimator_doc_link.fitted {\n",
       "  /* fitted */\n",
       "  border: var(--sklearn-color-fitted-level-1) 1pt solid;\n",
       "  color: var(--sklearn-color-fitted-level-1);\n",
       "}\n",
       "\n",
       "/* On hover */\n",
       "#sk-container-id-2 a.estimator_doc_link:hover {\n",
       "  /* unfitted */\n",
       "  background-color: var(--sklearn-color-unfitted-level-3);\n",
       "  color: var(--sklearn-color-background);\n",
       "  text-decoration: none;\n",
       "}\n",
       "\n",
       "#sk-container-id-2 a.estimator_doc_link.fitted:hover {\n",
       "  /* fitted */\n",
       "  background-color: var(--sklearn-color-fitted-level-3);\n",
       "}\n",
       "</style><div id=\"sk-container-id-2\" class=\"sk-top-container\"><div class=\"sk-text-repr-fallback\"><pre>Lasso()</pre><b>In a Jupyter environment, please rerun this cell to show the HTML representation or trust the notebook. <br />On GitHub, the HTML representation is unable to render, please try loading this page with nbviewer.org.</b></div><div class=\"sk-container\" hidden><div class=\"sk-item\"><div class=\"sk-estimator fitted sk-toggleable\"><input class=\"sk-toggleable__control sk-hidden--visually\" id=\"sk-estimator-id-2\" type=\"checkbox\" checked><label for=\"sk-estimator-id-2\" class=\"sk-toggleable__label fitted sk-toggleable__label-arrow fitted\">&nbsp;&nbsp;Lasso<a class=\"sk-estimator-doc-link fitted\" rel=\"noreferrer\" target=\"_blank\" href=\"https://scikit-learn.org/1.5/modules/generated/sklearn.linear_model.Lasso.html\">?<span>Documentation for Lasso</span></a><span class=\"sk-estimator-doc-link fitted\">i<span>Fitted</span></span></label><div class=\"sk-toggleable__content fitted\"><pre>Lasso()</pre></div> </div></div></div></div>"
      ],
      "text/plain": [
       "Lasso()"
      ]
     },
     "execution_count": 57,
     "metadata": {},
     "output_type": "execute_result"
    }
   ],
   "source": [
    "lasso=Lasso(alpha=1.0)\n",
    "lasso.fit(X,y)"
   ]
  },
  {
   "cell_type": "code",
   "execution_count": 65,
   "id": "b98c2977-aa8d-45b9-a01f-27227da95cd9",
   "metadata": {},
   "outputs": [
    {
     "data": {
      "text/plain": [
       "array([11174.02940548, 11463.08131734,  6051.37090709, ...,\n",
       "        7358.47616968,  9604.69103392,  7205.76785235])"
      ]
     },
     "execution_count": 65,
     "metadata": {},
     "output_type": "execute_result"
    }
   ],
   "source": [
    "ypred_train=lasso.predict(X_train)\n",
    "ypred_train"
   ]
  },
  {
   "cell_type": "code",
   "execution_count": 76,
   "id": "a3eb6b17-d974-4c97-ba9e-64cc5afac70b",
   "metadata": {},
   "outputs": [
    {
     "data": {
      "text/plain": [
       "array([13620.64784737, 11812.8105082 , 10858.52229438, 11581.21519998,\n",
       "       11139.87830464, 13695.48965681, 13247.58323792, 14316.35200386,\n",
       "       10203.61791184,  8255.26990922,  9486.2216566 ,  6945.47271031,\n",
       "        7826.05904333, 15838.47771021, 10602.05390719, 11231.0879781 ,\n",
       "        6738.17995141, 12035.61484549,  8828.56615836,  7753.81973475,\n",
       "       14586.65125131, 13270.07569327,  8485.60053546, 13315.98283261,\n",
       "        8528.8051085 , 15116.53398082,  7543.70896784,  9140.32512745,\n",
       "        9994.71325413, 10636.78017583, 12917.71816144, 15825.01074682,\n",
       "        7421.81688396,  8590.82604114,  7814.42932296, 11938.03670944,\n",
       "       13545.41431383, 13870.60776885, 10068.39639256, 18280.05109527,\n",
       "        7064.30555402,  8338.42774269,  7759.88640207,  9747.24829076,\n",
       "        5709.54196787,  9757.60197205,  8730.3568561 ,  9796.89019546,\n",
       "        7462.22612609, 10776.08678778, 11149.26843072, 15491.07916593,\n",
       "        8156.88830143,  9615.43612647, 11458.42130364, 15954.43147212,\n",
       "       18675.75710525, 15138.65079568,  8568.57638631, 13668.71827987,\n",
       "       12084.39893766,  9337.75040784,  6936.29773125, 15488.81197877,\n",
       "       11839.55645772, 11745.08849645,  7419.46323863, 14633.78250083,\n",
       "       16202.24319507,  8852.72442635, 11282.0060882 ,  5682.30371806,\n",
       "       10529.92949808,  5777.88808909, 19107.1289925 ,  7166.33694033,\n",
       "        9526.08557266,  5957.24983783, 13098.61440843,  8181.52296008,\n",
       "        8177.61629016,  9175.7173716 ,  8866.43005641,  7963.564421  ,\n",
       "        6435.99136549,  9946.99152653,  8655.98950822,  9578.39390847,\n",
       "       10614.16862262, 12866.09632364,  6066.03067061, 12991.58238793,\n",
       "       13830.53270231, 18991.58840672, 11273.10135031, 13329.37407658,\n",
       "       10322.58327043,  8305.25732444,  7664.97560061,  7631.64639447,\n",
       "       17440.81856438,  7947.41523574,  7433.01161771, 14934.8644113 ,\n",
       "        8377.88065928, 12313.50780075,  8528.03839465,  7722.95785667,\n",
       "        9732.18543414,  6370.85126066, 14229.36851158,  7817.41722389,\n",
       "        6296.44997313,  7935.83548363,  6959.12899556, 10942.21718889,\n",
       "       10350.00374709, 12758.7939075 , 14346.04826292,  9415.10614489,\n",
       "       16078.01305835, 12944.64103148,  8844.19153556,  9592.54231569,\n",
       "        9954.04434809, 12227.97592839,  7671.11414663, 11910.48261174,\n",
       "        9387.13568032, 12564.38452782, 14852.07851663,  7968.7044425 ,\n",
       "       10334.70058028, 13703.79737423, 13578.43998578, 12307.51903045,\n",
       "        8332.58652355, 12070.03782868,  7471.03945048, 13473.78566291,\n",
       "       10340.25887973,  7380.7611564 ,  8948.1749846 , 11501.70407709,\n",
       "        6638.34054361,  7599.42790457, 10933.02638247,  7937.35669781,\n",
       "       13215.59746218, 13955.26092935, 15480.25365645, 14438.81642909,\n",
       "       11554.20829547, 11520.42326804,  8175.36749354,  8048.07104215,\n",
       "        8615.11511544,  9883.44919134,  6952.39577012, 14929.42879869,\n",
       "       14858.57928402,  8250.19119773, 10490.03629136, 11499.59798717,\n",
       "        6689.78299558, 11206.20661856,  9796.57114737,  9539.19338824,\n",
       "       11978.35301983,  6327.016076  , 11153.09925781,  8273.13065156,\n",
       "        7575.3023279 ,  9797.40156887, 16701.6243518 , 11303.78013226,\n",
       "        9505.4182512 , 11189.52092027, 12445.38103393,  9583.10270883,\n",
       "       14170.37603046, 12619.07551038, 10183.5803564 ,  7040.78627346,\n",
       "       10343.21504691,  9371.78737121,  7890.49721138,  8843.02020025,\n",
       "        9790.78523492,  7317.09236436, 10630.17359946,  7648.6486695 ,\n",
       "       11197.75859151,  8364.00882637, 10257.90338405,  8631.91206302,\n",
       "       17185.76282046, 13357.27457116, 14010.95030205,  8589.80675691,\n",
       "       15388.49338441, 16996.12447264, 10723.59196139,  7843.61111515,\n",
       "        8397.04454624, 10829.62875993, 14197.23818866,  8295.20724091,\n",
       "       10104.25742593,  7963.41500272,  6706.95380439,  9544.49863382,\n",
       "        7504.97801858,  9094.1053147 ,  9860.76840155,  9007.03597238,\n",
       "       10338.13915408, 11298.94395977,  9663.75225029, 16200.04032308,\n",
       "        6387.58809521, 15771.25965584,  7268.4414605 , 11949.38311068,\n",
       "        7122.84769693, 10221.30578194,  8722.08656477, 20315.6440614 ,\n",
       "        7510.00518016,  8578.18314308, 10998.16334658, 12544.52768955,\n",
       "        7816.28616293,  5456.84285073, 13977.58604737, 10422.24155557,\n",
       "       19278.65231144,  7090.88947557,  6309.48986629, 17522.86803121,\n",
       "        7174.9253747 ,  7413.64923234,  9036.59468715,  4781.94834869,\n",
       "       14467.25935212, 10954.76125834,  9185.6285233 ,  5368.62212155,\n",
       "       14967.58563765, 10385.26806074,  6859.65303546, 10857.91003481,\n",
       "       11274.09071186, 13685.65270989, 13739.77590854, 13731.58446944,\n",
       "       13742.43697027, 12806.64512362, 11741.32508535, 11624.2019571 ,\n",
       "        8867.08204362, 10050.54729568,  9467.30882162,  7644.64396441,\n",
       "       13974.74345075,  5303.06677366,  9258.17387305,  7558.26962968,\n",
       "       12705.59645446, 16336.03082109,  9020.16577384, 14214.15326694,\n",
       "        7724.73621303,  6220.40929913,  6458.12932145, 11982.17785137,\n",
       "        9254.85386281, 13603.39908801, 19580.9820221 , 11071.53462828,\n",
       "       10708.80654995, 19121.52208065, 11412.4756616 ,  7858.48752237,\n",
       "        6704.47643696,  8316.14564505,  5534.67375517])"
      ]
     },
     "execution_count": 76,
     "metadata": {},
     "output_type": "execute_result"
    }
   ],
   "source": [
    "ypred_test=lasso.predict(X_test)\n",
    "ypred_test"
   ]
  },
  {
   "cell_type": "markdown",
   "id": "9b35f758-1398-4ff5-964f-8984f9d75ce4",
   "metadata": {},
   "source": [
    "#### Training Metrics"
   ]
  },
  {
   "cell_type": "code",
   "execution_count": 77,
   "id": "d6502f94-d7ff-4755-9990-32b3b4adc29c",
   "metadata": {},
   "outputs": [
    {
     "data": {
      "text/plain": [
       "(2319338.75, 1522.94, 82.8)"
      ]
     },
     "execution_count": 77,
     "metadata": {},
     "output_type": "execute_result"
    }
   ],
   "source": [
    "mse_train=mean_squared_error(y_train,ypred_train)\n",
    "rmse_train=np.sqrt(mse_train)\n",
    "r2_train=r2_score(y_train,ypred_train)\n",
    "np.round(mse_train,2),np.round(rmse_train,2),np.round(r2_train*100,2)"
   ]
  },
  {
   "cell_type": "markdown",
   "id": "120e94c1-2166-49b4-b6bf-132a431fb1bf",
   "metadata": {},
   "source": [
    "#### Testing metrics"
   ]
  },
  {
   "cell_type": "code",
   "execution_count": 78,
   "id": "6f146821-a143-43f8-bcf8-bd1107e380d0",
   "metadata": {},
   "outputs": [
    {
     "data": {
      "text/plain": [
       "(1987617.05, 1409.83, 81.81)"
      ]
     },
     "execution_count": 78,
     "metadata": {},
     "output_type": "execute_result"
    }
   ],
   "source": [
    "mse_test=mean_squared_error(y_test,ypred_test)\n",
    "rmse_test=np.sqrt(mse_test)\n",
    "r2_test=r2_score(y_test,ypred_test)\n",
    "np.round(mse_test,2),np.round(rmse_test,2),np.round(r2_test*100,2)"
   ]
  },
  {
   "cell_type": "markdown",
   "id": "50a6d4a9-b5a2-4754-adb6-94f16497b0ce",
   "metadata": {},
   "source": [
    "#### Ridge"
   ]
  },
  {
   "cell_type": "code",
   "execution_count": 80,
   "id": "3f16bfaa-7d33-4307-ad05-20e1298c9432",
   "metadata": {},
   "outputs": [],
   "source": [
    "from sklearn.linear_model import Ridge"
   ]
  },
  {
   "cell_type": "code",
   "execution_count": 81,
   "id": "b09f7889-d2b5-49b3-8c00-ea8bdfdbc029",
   "metadata": {},
   "outputs": [
    {
     "data": {
      "text/html": [
       "<style>#sk-container-id-3 {\n",
       "  /* Definition of color scheme common for light and dark mode */\n",
       "  --sklearn-color-text: black;\n",
       "  --sklearn-color-line: gray;\n",
       "  /* Definition of color scheme for unfitted estimators */\n",
       "  --sklearn-color-unfitted-level-0: #fff5e6;\n",
       "  --sklearn-color-unfitted-level-1: #f6e4d2;\n",
       "  --sklearn-color-unfitted-level-2: #ffe0b3;\n",
       "  --sklearn-color-unfitted-level-3: chocolate;\n",
       "  /* Definition of color scheme for fitted estimators */\n",
       "  --sklearn-color-fitted-level-0: #f0f8ff;\n",
       "  --sklearn-color-fitted-level-1: #d4ebff;\n",
       "  --sklearn-color-fitted-level-2: #b3dbfd;\n",
       "  --sklearn-color-fitted-level-3: cornflowerblue;\n",
       "\n",
       "  /* Specific color for light theme */\n",
       "  --sklearn-color-text-on-default-background: var(--sg-text-color, var(--theme-code-foreground, var(--jp-content-font-color1, black)));\n",
       "  --sklearn-color-background: var(--sg-background-color, var(--theme-background, var(--jp-layout-color0, white)));\n",
       "  --sklearn-color-border-box: var(--sg-text-color, var(--theme-code-foreground, var(--jp-content-font-color1, black)));\n",
       "  --sklearn-color-icon: #696969;\n",
       "\n",
       "  @media (prefers-color-scheme: dark) {\n",
       "    /* Redefinition of color scheme for dark theme */\n",
       "    --sklearn-color-text-on-default-background: var(--sg-text-color, var(--theme-code-foreground, var(--jp-content-font-color1, white)));\n",
       "    --sklearn-color-background: var(--sg-background-color, var(--theme-background, var(--jp-layout-color0, #111)));\n",
       "    --sklearn-color-border-box: var(--sg-text-color, var(--theme-code-foreground, var(--jp-content-font-color1, white)));\n",
       "    --sklearn-color-icon: #878787;\n",
       "  }\n",
       "}\n",
       "\n",
       "#sk-container-id-3 {\n",
       "  color: var(--sklearn-color-text);\n",
       "}\n",
       "\n",
       "#sk-container-id-3 pre {\n",
       "  padding: 0;\n",
       "}\n",
       "\n",
       "#sk-container-id-3 input.sk-hidden--visually {\n",
       "  border: 0;\n",
       "  clip: rect(1px 1px 1px 1px);\n",
       "  clip: rect(1px, 1px, 1px, 1px);\n",
       "  height: 1px;\n",
       "  margin: -1px;\n",
       "  overflow: hidden;\n",
       "  padding: 0;\n",
       "  position: absolute;\n",
       "  width: 1px;\n",
       "}\n",
       "\n",
       "#sk-container-id-3 div.sk-dashed-wrapped {\n",
       "  border: 1px dashed var(--sklearn-color-line);\n",
       "  margin: 0 0.4em 0.5em 0.4em;\n",
       "  box-sizing: border-box;\n",
       "  padding-bottom: 0.4em;\n",
       "  background-color: var(--sklearn-color-background);\n",
       "}\n",
       "\n",
       "#sk-container-id-3 div.sk-container {\n",
       "  /* jupyter's `normalize.less` sets `[hidden] { display: none; }`\n",
       "     but bootstrap.min.css set `[hidden] { display: none !important; }`\n",
       "     so we also need the `!important` here to be able to override the\n",
       "     default hidden behavior on the sphinx rendered scikit-learn.org.\n",
       "     See: https://github.com/scikit-learn/scikit-learn/issues/21755 */\n",
       "  display: inline-block !important;\n",
       "  position: relative;\n",
       "}\n",
       "\n",
       "#sk-container-id-3 div.sk-text-repr-fallback {\n",
       "  display: none;\n",
       "}\n",
       "\n",
       "div.sk-parallel-item,\n",
       "div.sk-serial,\n",
       "div.sk-item {\n",
       "  /* draw centered vertical line to link estimators */\n",
       "  background-image: linear-gradient(var(--sklearn-color-text-on-default-background), var(--sklearn-color-text-on-default-background));\n",
       "  background-size: 2px 100%;\n",
       "  background-repeat: no-repeat;\n",
       "  background-position: center center;\n",
       "}\n",
       "\n",
       "/* Parallel-specific style estimator block */\n",
       "\n",
       "#sk-container-id-3 div.sk-parallel-item::after {\n",
       "  content: \"\";\n",
       "  width: 100%;\n",
       "  border-bottom: 2px solid var(--sklearn-color-text-on-default-background);\n",
       "  flex-grow: 1;\n",
       "}\n",
       "\n",
       "#sk-container-id-3 div.sk-parallel {\n",
       "  display: flex;\n",
       "  align-items: stretch;\n",
       "  justify-content: center;\n",
       "  background-color: var(--sklearn-color-background);\n",
       "  position: relative;\n",
       "}\n",
       "\n",
       "#sk-container-id-3 div.sk-parallel-item {\n",
       "  display: flex;\n",
       "  flex-direction: column;\n",
       "}\n",
       "\n",
       "#sk-container-id-3 div.sk-parallel-item:first-child::after {\n",
       "  align-self: flex-end;\n",
       "  width: 50%;\n",
       "}\n",
       "\n",
       "#sk-container-id-3 div.sk-parallel-item:last-child::after {\n",
       "  align-self: flex-start;\n",
       "  width: 50%;\n",
       "}\n",
       "\n",
       "#sk-container-id-3 div.sk-parallel-item:only-child::after {\n",
       "  width: 0;\n",
       "}\n",
       "\n",
       "/* Serial-specific style estimator block */\n",
       "\n",
       "#sk-container-id-3 div.sk-serial {\n",
       "  display: flex;\n",
       "  flex-direction: column;\n",
       "  align-items: center;\n",
       "  background-color: var(--sklearn-color-background);\n",
       "  padding-right: 1em;\n",
       "  padding-left: 1em;\n",
       "}\n",
       "\n",
       "\n",
       "/* Toggleable style: style used for estimator/Pipeline/ColumnTransformer box that is\n",
       "clickable and can be expanded/collapsed.\n",
       "- Pipeline and ColumnTransformer use this feature and define the default style\n",
       "- Estimators will overwrite some part of the style using the `sk-estimator` class\n",
       "*/\n",
       "\n",
       "/* Pipeline and ColumnTransformer style (default) */\n",
       "\n",
       "#sk-container-id-3 div.sk-toggleable {\n",
       "  /* Default theme specific background. It is overwritten whether we have a\n",
       "  specific estimator or a Pipeline/ColumnTransformer */\n",
       "  background-color: var(--sklearn-color-background);\n",
       "}\n",
       "\n",
       "/* Toggleable label */\n",
       "#sk-container-id-3 label.sk-toggleable__label {\n",
       "  cursor: pointer;\n",
       "  display: block;\n",
       "  width: 100%;\n",
       "  margin-bottom: 0;\n",
       "  padding: 0.5em;\n",
       "  box-sizing: border-box;\n",
       "  text-align: center;\n",
       "}\n",
       "\n",
       "#sk-container-id-3 label.sk-toggleable__label-arrow:before {\n",
       "  /* Arrow on the left of the label */\n",
       "  content: \"▸\";\n",
       "  float: left;\n",
       "  margin-right: 0.25em;\n",
       "  color: var(--sklearn-color-icon);\n",
       "}\n",
       "\n",
       "#sk-container-id-3 label.sk-toggleable__label-arrow:hover:before {\n",
       "  color: var(--sklearn-color-text);\n",
       "}\n",
       "\n",
       "/* Toggleable content - dropdown */\n",
       "\n",
       "#sk-container-id-3 div.sk-toggleable__content {\n",
       "  max-height: 0;\n",
       "  max-width: 0;\n",
       "  overflow: hidden;\n",
       "  text-align: left;\n",
       "  /* unfitted */\n",
       "  background-color: var(--sklearn-color-unfitted-level-0);\n",
       "}\n",
       "\n",
       "#sk-container-id-3 div.sk-toggleable__content.fitted {\n",
       "  /* fitted */\n",
       "  background-color: var(--sklearn-color-fitted-level-0);\n",
       "}\n",
       "\n",
       "#sk-container-id-3 div.sk-toggleable__content pre {\n",
       "  margin: 0.2em;\n",
       "  border-radius: 0.25em;\n",
       "  color: var(--sklearn-color-text);\n",
       "  /* unfitted */\n",
       "  background-color: var(--sklearn-color-unfitted-level-0);\n",
       "}\n",
       "\n",
       "#sk-container-id-3 div.sk-toggleable__content.fitted pre {\n",
       "  /* unfitted */\n",
       "  background-color: var(--sklearn-color-fitted-level-0);\n",
       "}\n",
       "\n",
       "#sk-container-id-3 input.sk-toggleable__control:checked~div.sk-toggleable__content {\n",
       "  /* Expand drop-down */\n",
       "  max-height: 200px;\n",
       "  max-width: 100%;\n",
       "  overflow: auto;\n",
       "}\n",
       "\n",
       "#sk-container-id-3 input.sk-toggleable__control:checked~label.sk-toggleable__label-arrow:before {\n",
       "  content: \"▾\";\n",
       "}\n",
       "\n",
       "/* Pipeline/ColumnTransformer-specific style */\n",
       "\n",
       "#sk-container-id-3 div.sk-label input.sk-toggleable__control:checked~label.sk-toggleable__label {\n",
       "  color: var(--sklearn-color-text);\n",
       "  background-color: var(--sklearn-color-unfitted-level-2);\n",
       "}\n",
       "\n",
       "#sk-container-id-3 div.sk-label.fitted input.sk-toggleable__control:checked~label.sk-toggleable__label {\n",
       "  background-color: var(--sklearn-color-fitted-level-2);\n",
       "}\n",
       "\n",
       "/* Estimator-specific style */\n",
       "\n",
       "/* Colorize estimator box */\n",
       "#sk-container-id-3 div.sk-estimator input.sk-toggleable__control:checked~label.sk-toggleable__label {\n",
       "  /* unfitted */\n",
       "  background-color: var(--sklearn-color-unfitted-level-2);\n",
       "}\n",
       "\n",
       "#sk-container-id-3 div.sk-estimator.fitted input.sk-toggleable__control:checked~label.sk-toggleable__label {\n",
       "  /* fitted */\n",
       "  background-color: var(--sklearn-color-fitted-level-2);\n",
       "}\n",
       "\n",
       "#sk-container-id-3 div.sk-label label.sk-toggleable__label,\n",
       "#sk-container-id-3 div.sk-label label {\n",
       "  /* The background is the default theme color */\n",
       "  color: var(--sklearn-color-text-on-default-background);\n",
       "}\n",
       "\n",
       "/* On hover, darken the color of the background */\n",
       "#sk-container-id-3 div.sk-label:hover label.sk-toggleable__label {\n",
       "  color: var(--sklearn-color-text);\n",
       "  background-color: var(--sklearn-color-unfitted-level-2);\n",
       "}\n",
       "\n",
       "/* Label box, darken color on hover, fitted */\n",
       "#sk-container-id-3 div.sk-label.fitted:hover label.sk-toggleable__label.fitted {\n",
       "  color: var(--sklearn-color-text);\n",
       "  background-color: var(--sklearn-color-fitted-level-2);\n",
       "}\n",
       "\n",
       "/* Estimator label */\n",
       "\n",
       "#sk-container-id-3 div.sk-label label {\n",
       "  font-family: monospace;\n",
       "  font-weight: bold;\n",
       "  display: inline-block;\n",
       "  line-height: 1.2em;\n",
       "}\n",
       "\n",
       "#sk-container-id-3 div.sk-label-container {\n",
       "  text-align: center;\n",
       "}\n",
       "\n",
       "/* Estimator-specific */\n",
       "#sk-container-id-3 div.sk-estimator {\n",
       "  font-family: monospace;\n",
       "  border: 1px dotted var(--sklearn-color-border-box);\n",
       "  border-radius: 0.25em;\n",
       "  box-sizing: border-box;\n",
       "  margin-bottom: 0.5em;\n",
       "  /* unfitted */\n",
       "  background-color: var(--sklearn-color-unfitted-level-0);\n",
       "}\n",
       "\n",
       "#sk-container-id-3 div.sk-estimator.fitted {\n",
       "  /* fitted */\n",
       "  background-color: var(--sklearn-color-fitted-level-0);\n",
       "}\n",
       "\n",
       "/* on hover */\n",
       "#sk-container-id-3 div.sk-estimator:hover {\n",
       "  /* unfitted */\n",
       "  background-color: var(--sklearn-color-unfitted-level-2);\n",
       "}\n",
       "\n",
       "#sk-container-id-3 div.sk-estimator.fitted:hover {\n",
       "  /* fitted */\n",
       "  background-color: var(--sklearn-color-fitted-level-2);\n",
       "}\n",
       "\n",
       "/* Specification for estimator info (e.g. \"i\" and \"?\") */\n",
       "\n",
       "/* Common style for \"i\" and \"?\" */\n",
       "\n",
       ".sk-estimator-doc-link,\n",
       "a:link.sk-estimator-doc-link,\n",
       "a:visited.sk-estimator-doc-link {\n",
       "  float: right;\n",
       "  font-size: smaller;\n",
       "  line-height: 1em;\n",
       "  font-family: monospace;\n",
       "  background-color: var(--sklearn-color-background);\n",
       "  border-radius: 1em;\n",
       "  height: 1em;\n",
       "  width: 1em;\n",
       "  text-decoration: none !important;\n",
       "  margin-left: 1ex;\n",
       "  /* unfitted */\n",
       "  border: var(--sklearn-color-unfitted-level-1) 1pt solid;\n",
       "  color: var(--sklearn-color-unfitted-level-1);\n",
       "}\n",
       "\n",
       ".sk-estimator-doc-link.fitted,\n",
       "a:link.sk-estimator-doc-link.fitted,\n",
       "a:visited.sk-estimator-doc-link.fitted {\n",
       "  /* fitted */\n",
       "  border: var(--sklearn-color-fitted-level-1) 1pt solid;\n",
       "  color: var(--sklearn-color-fitted-level-1);\n",
       "}\n",
       "\n",
       "/* On hover */\n",
       "div.sk-estimator:hover .sk-estimator-doc-link:hover,\n",
       ".sk-estimator-doc-link:hover,\n",
       "div.sk-label-container:hover .sk-estimator-doc-link:hover,\n",
       ".sk-estimator-doc-link:hover {\n",
       "  /* unfitted */\n",
       "  background-color: var(--sklearn-color-unfitted-level-3);\n",
       "  color: var(--sklearn-color-background);\n",
       "  text-decoration: none;\n",
       "}\n",
       "\n",
       "div.sk-estimator.fitted:hover .sk-estimator-doc-link.fitted:hover,\n",
       ".sk-estimator-doc-link.fitted:hover,\n",
       "div.sk-label-container:hover .sk-estimator-doc-link.fitted:hover,\n",
       ".sk-estimator-doc-link.fitted:hover {\n",
       "  /* fitted */\n",
       "  background-color: var(--sklearn-color-fitted-level-3);\n",
       "  color: var(--sklearn-color-background);\n",
       "  text-decoration: none;\n",
       "}\n",
       "\n",
       "/* Span, style for the box shown on hovering the info icon */\n",
       ".sk-estimator-doc-link span {\n",
       "  display: none;\n",
       "  z-index: 9999;\n",
       "  position: relative;\n",
       "  font-weight: normal;\n",
       "  right: .2ex;\n",
       "  padding: .5ex;\n",
       "  margin: .5ex;\n",
       "  width: min-content;\n",
       "  min-width: 20ex;\n",
       "  max-width: 50ex;\n",
       "  color: var(--sklearn-color-text);\n",
       "  box-shadow: 2pt 2pt 4pt #999;\n",
       "  /* unfitted */\n",
       "  background: var(--sklearn-color-unfitted-level-0);\n",
       "  border: .5pt solid var(--sklearn-color-unfitted-level-3);\n",
       "}\n",
       "\n",
       ".sk-estimator-doc-link.fitted span {\n",
       "  /* fitted */\n",
       "  background: var(--sklearn-color-fitted-level-0);\n",
       "  border: var(--sklearn-color-fitted-level-3);\n",
       "}\n",
       "\n",
       ".sk-estimator-doc-link:hover span {\n",
       "  display: block;\n",
       "}\n",
       "\n",
       "/* \"?\"-specific style due to the `<a>` HTML tag */\n",
       "\n",
       "#sk-container-id-3 a.estimator_doc_link {\n",
       "  float: right;\n",
       "  font-size: 1rem;\n",
       "  line-height: 1em;\n",
       "  font-family: monospace;\n",
       "  background-color: var(--sklearn-color-background);\n",
       "  border-radius: 1rem;\n",
       "  height: 1rem;\n",
       "  width: 1rem;\n",
       "  text-decoration: none;\n",
       "  /* unfitted */\n",
       "  color: var(--sklearn-color-unfitted-level-1);\n",
       "  border: var(--sklearn-color-unfitted-level-1) 1pt solid;\n",
       "}\n",
       "\n",
       "#sk-container-id-3 a.estimator_doc_link.fitted {\n",
       "  /* fitted */\n",
       "  border: var(--sklearn-color-fitted-level-1) 1pt solid;\n",
       "  color: var(--sklearn-color-fitted-level-1);\n",
       "}\n",
       "\n",
       "/* On hover */\n",
       "#sk-container-id-3 a.estimator_doc_link:hover {\n",
       "  /* unfitted */\n",
       "  background-color: var(--sklearn-color-unfitted-level-3);\n",
       "  color: var(--sklearn-color-background);\n",
       "  text-decoration: none;\n",
       "}\n",
       "\n",
       "#sk-container-id-3 a.estimator_doc_link.fitted:hover {\n",
       "  /* fitted */\n",
       "  background-color: var(--sklearn-color-fitted-level-3);\n",
       "}\n",
       "</style><div id=\"sk-container-id-3\" class=\"sk-top-container\"><div class=\"sk-text-repr-fallback\"><pre>Ridge()</pre><b>In a Jupyter environment, please rerun this cell to show the HTML representation or trust the notebook. <br />On GitHub, the HTML representation is unable to render, please try loading this page with nbviewer.org.</b></div><div class=\"sk-container\" hidden><div class=\"sk-item\"><div class=\"sk-estimator fitted sk-toggleable\"><input class=\"sk-toggleable__control sk-hidden--visually\" id=\"sk-estimator-id-3\" type=\"checkbox\" checked><label for=\"sk-estimator-id-3\" class=\"sk-toggleable__label fitted sk-toggleable__label-arrow fitted\">&nbsp;&nbsp;Ridge<a class=\"sk-estimator-doc-link fitted\" rel=\"noreferrer\" target=\"_blank\" href=\"https://scikit-learn.org/1.5/modules/generated/sklearn.linear_model.Ridge.html\">?<span>Documentation for Ridge</span></a><span class=\"sk-estimator-doc-link fitted\">i<span>Fitted</span></span></label><div class=\"sk-toggleable__content fitted\"><pre>Ridge()</pre></div> </div></div></div></div>"
      ],
      "text/plain": [
       "Ridge()"
      ]
     },
     "execution_count": 81,
     "metadata": {},
     "output_type": "execute_result"
    }
   ],
   "source": [
    "rid=Ridge()\n",
    "rid.fit(X,y)"
   ]
  },
  {
   "cell_type": "code",
   "execution_count": 82,
   "id": "bc1ed0ea-4832-4462-bcc1-484a2eebfca0",
   "metadata": {},
   "outputs": [],
   "source": [
    "yrhat_train=rid.predict(X_train)"
   ]
  },
  {
   "cell_type": "code",
   "execution_count": 83,
   "id": "8ce130be-32cc-4103-bdb2-cb8cc7793d18",
   "metadata": {},
   "outputs": [],
   "source": [
    "yrhat_test=rid.predict(X_test)"
   ]
  },
  {
   "cell_type": "markdown",
   "id": "7ccd4196-5016-4e26-aabf-c472ee146d7f",
   "metadata": {},
   "source": [
    "#### Training metrics"
   ]
  },
  {
   "cell_type": "code",
   "execution_count": 85,
   "id": "847fecbd-0118-4af0-bff0-788984318adb",
   "metadata": {},
   "outputs": [
    {
     "data": {
      "text/plain": [
       "(2319236.98, 1522.9, 82.8)"
      ]
     },
     "execution_count": 85,
     "metadata": {},
     "output_type": "execute_result"
    }
   ],
   "source": [
    "mse_train=mean_squared_error(y_train,yrhat_train)\n",
    "rmse_train=np.sqrt(mse_train)\n",
    "r2_train=r2_score(y_train,yrhat_train)\n",
    "np.round(mse_train,2),np.round(rmse_train,2),np.round(r2_train*100,2)"
   ]
  },
  {
   "cell_type": "markdown",
   "id": "74675473-1e2e-4b7f-9cd0-ffd5d1d4a4d1",
   "metadata": {},
   "source": [
    "#### Testing Metrics "
   ]
  },
  {
   "cell_type": "code",
   "execution_count": 86,
   "id": "c2be0f90-5a8e-48b4-90c8-b26257b1bfbb",
   "metadata": {},
   "outputs": [
    {
     "data": {
      "text/plain": [
       "(1987732.4, 1409.87, 81.81)"
      ]
     },
     "execution_count": 86,
     "metadata": {},
     "output_type": "execute_result"
    }
   ],
   "source": [
    "mse_test=mean_squared_error(y_test,yrhat_test)\n",
    "rmse_test=np.sqrt(mse_test)\n",
    "r2_test=r2_score(y_test,yrhat_test)\n",
    "np.round(mse_test,2),np.round(rmse_test,2),np.round(r2_test*100,2)"
   ]
  },
  {
   "cell_type": "markdown",
   "id": "ed10a345-a6c5-42cd-b1c9-e30e2a27180b",
   "metadata": {},
   "source": [
    "#### Conclusion\n",
    "Lasso and Ridge gave similar MSE and R² scores as basic linear regression.\n",
    "→ This shows that regularization had little impact.\n",
    "\n",
    "No multicollinearity or overfitting was present in the dataset.\n",
    "→ VIF values were low, and the model was already stable.\n",
    "\n",
    "All features contributed meaningfully to prediction.\n",
    "→ Lasso did not eliminate any variables.\n",
    "\n",
    "Regularization strength (alpha) was tested, but no significant improvement was observed.\n",
    "→ Indicates that the model is already well-optimized.\n",
    "\n",
    "Conclusion: Lasso and Ridge confirmed that the original model was robust and did not need further penalization.\n",
    "\n"
   ]
  },
  {
   "cell_type": "markdown",
   "id": "801ff7ea-e700-4308-a856-149dfcb4a93d",
   "metadata": {},
   "source": [
    "#### Interview questions"
   ]
  },
  {
   "cell_type": "markdown",
   "id": "36e6931c-f086-45cc-a01d-71269ea0a182",
   "metadata": {},
   "source": [
    "####\n",
    "1.Normalization and standarzitaion is both used in scaling the data when the scale of the \n",
    "data is very large\n",
    "Normalization can scales the data in the range of 0 to 1 \n",
    "\n",
    "\n",
    "Standardization can scales the data in the range of -3 to 3\n",
    "\n",
    "It Ensures that features with large values don’t dominate those with smaller values.\n",
    "\n",
    "2.The techniques used to address multicollinearity are\n",
    "  \n",
    "  Check VIF (Variance Inflation Factor)\n",
    "  \n",
    "  Helps identify multicollinearity before modeling.\n",
    "  \n",
    "  Ridge Regression reduces impact of correlated predictors.\n",
    "  \n",
    "  Lasso Regression can eliminate irrelevant ones by shrinking coefficients to zero.\n"
   ]
  },
  {
   "cell_type": "code",
   "execution_count": null,
   "id": "898be0c1-733d-43c2-890e-a973547c4420",
   "metadata": {},
   "outputs": [],
   "source": []
  }
 ],
 "metadata": {
  "kernelspec": {
   "display_name": "Python 3 (ipykernel)",
   "language": "python",
   "name": "python3"
  },
  "language_info": {
   "codemirror_mode": {
    "name": "ipython",
    "version": 3
   },
   "file_extension": ".py",
   "mimetype": "text/x-python",
   "name": "python",
   "nbconvert_exporter": "python",
   "pygments_lexer": "ipython3",
   "version": "3.12.7"
  }
 },
 "nbformat": 4,
 "nbformat_minor": 5
}
